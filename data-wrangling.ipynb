{
 "cells": [
  {
   "cell_type": "code",
   "execution_count": 41,
   "metadata": {},
   "outputs": [],
   "source": [
    "# Pandas project: Global Shark Attack Incidents:"
   ]
  },
  {
   "cell_type": "code",
   "execution_count": null,
   "metadata": {},
   "outputs": [],
   "source": [
    "'''\n",
    "\n",
    "Main goal:\n",
    "\n",
    "As a biologist, my goal with this project is to demonstrate that sharks are adorable creatures (Baby Shark doo doo doo...)\n",
    "and that humans seek to be eaten by them for some strange reasons.\n",
    "\n",
    "My hypotheses:\n",
    "- Humans do some weird stuff (activities) to make it easier for sharks to locate them.\n",
    "- \n",
    "- \n",
    "\n",
    "'''"
   ]
  },
  {
   "cell_type": "code",
   "execution_count": 42,
   "metadata": {},
   "outputs": [],
   "source": [
    "# First, I import the packages I need:\n",
    "import pandas as pd\n",
    "import numpy as np\n",
    "import re\n",
    "import matplotlib.pyplot as plt"
   ]
  },
  {
   "cell_type": "code",
   "execution_count": 43,
   "metadata": {},
   "outputs": [
    {
     "data": {
      "text/html": [
       "<div>\n",
       "<style scoped>\n",
       "    .dataframe tbody tr th:only-of-type {\n",
       "        vertical-align: middle;\n",
       "    }\n",
       "\n",
       "    .dataframe tbody tr th {\n",
       "        vertical-align: top;\n",
       "    }\n",
       "\n",
       "    .dataframe thead th {\n",
       "        text-align: right;\n",
       "    }\n",
       "</style>\n",
       "<table border=\"1\" class=\"dataframe\">\n",
       "  <thead>\n",
       "    <tr style=\"text-align: right;\">\n",
       "      <th></th>\n",
       "      <th>Case Number</th>\n",
       "      <th>Date</th>\n",
       "      <th>Year</th>\n",
       "      <th>Type</th>\n",
       "      <th>Country</th>\n",
       "      <th>Area</th>\n",
       "      <th>Location</th>\n",
       "      <th>Activity</th>\n",
       "      <th>Name</th>\n",
       "      <th>Sex</th>\n",
       "      <th>...</th>\n",
       "      <th>Species</th>\n",
       "      <th>Investigator or Source</th>\n",
       "      <th>pdf</th>\n",
       "      <th>href formula</th>\n",
       "      <th>href</th>\n",
       "      <th>Case Number.1</th>\n",
       "      <th>Case Number.2</th>\n",
       "      <th>original order</th>\n",
       "      <th>Unnamed: 22</th>\n",
       "      <th>Unnamed: 23</th>\n",
       "    </tr>\n",
       "  </thead>\n",
       "  <tbody>\n",
       "    <tr>\n",
       "      <th>0</th>\n",
       "      <td>2016.09.18.c</td>\n",
       "      <td>18-Sep-16</td>\n",
       "      <td>2016</td>\n",
       "      <td>Unprovoked</td>\n",
       "      <td>USA</td>\n",
       "      <td>Florida</td>\n",
       "      <td>New Smyrna Beach, Volusia County</td>\n",
       "      <td>Surfing</td>\n",
       "      <td>male</td>\n",
       "      <td>M</td>\n",
       "      <td>...</td>\n",
       "      <td>NaN</td>\n",
       "      <td>Orlando Sentinel, 9/19/2016</td>\n",
       "      <td>2016.09.18.c-NSB.pdf</td>\n",
       "      <td>http://sharkattackfile.net/spreadsheets/pdf_di...</td>\n",
       "      <td>http://sharkattackfile.net/spreadsheets/pdf_di...</td>\n",
       "      <td>2016.09.18.c</td>\n",
       "      <td>2016.09.18.c</td>\n",
       "      <td>5993</td>\n",
       "      <td>NaN</td>\n",
       "      <td>NaN</td>\n",
       "    </tr>\n",
       "    <tr>\n",
       "      <th>1</th>\n",
       "      <td>2016.09.18.b</td>\n",
       "      <td>18-Sep-16</td>\n",
       "      <td>2016</td>\n",
       "      <td>Unprovoked</td>\n",
       "      <td>USA</td>\n",
       "      <td>Florida</td>\n",
       "      <td>New Smyrna Beach, Volusia County</td>\n",
       "      <td>Surfing</td>\n",
       "      <td>Chucky Luciano</td>\n",
       "      <td>M</td>\n",
       "      <td>...</td>\n",
       "      <td>NaN</td>\n",
       "      <td>Orlando Sentinel, 9/19/2016</td>\n",
       "      <td>2016.09.18.b-Luciano.pdf</td>\n",
       "      <td>http://sharkattackfile.net/spreadsheets/pdf_di...</td>\n",
       "      <td>http://sharkattackfile.net/spreadsheets/pdf_di...</td>\n",
       "      <td>2016.09.18.b</td>\n",
       "      <td>2016.09.18.b</td>\n",
       "      <td>5992</td>\n",
       "      <td>NaN</td>\n",
       "      <td>NaN</td>\n",
       "    </tr>\n",
       "    <tr>\n",
       "      <th>2</th>\n",
       "      <td>2016.09.18.a</td>\n",
       "      <td>18-Sep-16</td>\n",
       "      <td>2016</td>\n",
       "      <td>Unprovoked</td>\n",
       "      <td>USA</td>\n",
       "      <td>Florida</td>\n",
       "      <td>New Smyrna Beach, Volusia County</td>\n",
       "      <td>Surfing</td>\n",
       "      <td>male</td>\n",
       "      <td>M</td>\n",
       "      <td>...</td>\n",
       "      <td>NaN</td>\n",
       "      <td>Orlando Sentinel, 9/19/2016</td>\n",
       "      <td>2016.09.18.a-NSB.pdf</td>\n",
       "      <td>http://sharkattackfile.net/spreadsheets/pdf_di...</td>\n",
       "      <td>http://sharkattackfile.net/spreadsheets/pdf_di...</td>\n",
       "      <td>2016.09.18.a</td>\n",
       "      <td>2016.09.18.a</td>\n",
       "      <td>5991</td>\n",
       "      <td>NaN</td>\n",
       "      <td>NaN</td>\n",
       "    </tr>\n",
       "  </tbody>\n",
       "</table>\n",
       "<p>3 rows × 24 columns</p>\n",
       "</div>"
      ],
      "text/plain": [
       "    Case Number       Date  Year        Type Country     Area  \\\n",
       "0  2016.09.18.c  18-Sep-16  2016  Unprovoked     USA  Florida   \n",
       "1  2016.09.18.b  18-Sep-16  2016  Unprovoked     USA  Florida   \n",
       "2  2016.09.18.a  18-Sep-16  2016  Unprovoked     USA  Florida   \n",
       "\n",
       "                           Location Activity            Name Sex   ...  \\\n",
       "0  New Smyrna Beach, Volusia County  Surfing            male    M  ...   \n",
       "1  New Smyrna Beach, Volusia County  Surfing  Chucky Luciano    M  ...   \n",
       "2  New Smyrna Beach, Volusia County  Surfing            male    M  ...   \n",
       "\n",
       "  Species        Investigator or Source                       pdf  \\\n",
       "0      NaN  Orlando Sentinel, 9/19/2016      2016.09.18.c-NSB.pdf   \n",
       "1      NaN  Orlando Sentinel, 9/19/2016  2016.09.18.b-Luciano.pdf   \n",
       "2      NaN  Orlando Sentinel, 9/19/2016      2016.09.18.a-NSB.pdf   \n",
       "\n",
       "                                        href formula  \\\n",
       "0  http://sharkattackfile.net/spreadsheets/pdf_di...   \n",
       "1  http://sharkattackfile.net/spreadsheets/pdf_di...   \n",
       "2  http://sharkattackfile.net/spreadsheets/pdf_di...   \n",
       "\n",
       "                                                href Case Number.1  \\\n",
       "0  http://sharkattackfile.net/spreadsheets/pdf_di...  2016.09.18.c   \n",
       "1  http://sharkattackfile.net/spreadsheets/pdf_di...  2016.09.18.b   \n",
       "2  http://sharkattackfile.net/spreadsheets/pdf_di...  2016.09.18.a   \n",
       "\n",
       "  Case Number.2 original order Unnamed: 22 Unnamed: 23  \n",
       "0  2016.09.18.c           5993         NaN         NaN  \n",
       "1  2016.09.18.b           5992         NaN         NaN  \n",
       "2  2016.09.18.a           5991         NaN         NaN  \n",
       "\n",
       "[3 rows x 24 columns]"
      ]
     },
     "metadata": {},
     "output_type": "display_data"
    }
   ],
   "source": [
    "# I import the dataframe using Pandas with the correct encoding and I take a first look at the data:\n",
    "df = pd.read_csv('./Input/GSAF5.csv', encoding = 'ISO-8859-1')\n",
    "display(df.head(3))"
   ]
  },
  {
   "cell_type": "code",
   "execution_count": 44,
   "metadata": {},
   "outputs": [
    {
     "name": "stdout",
     "output_type": "stream",
     "text": [
      "['Case Number', 'Date', 'Year', 'Type', 'Country', 'Area', 'Location', 'Activity', 'Name', 'Sex ', 'Age', 'Injury', 'Fatal (Y/N)', 'Time', 'Species ', 'Investigator or Source', 'pdf', 'href formula', 'href', 'Case Number.1', 'Case Number.2', 'original order', 'Unnamed: 22', 'Unnamed: 23']\n"
     ]
    }
   ],
   "source": [
    "# Variables I can play with:\n",
    "print([e for e in df.columns])"
   ]
  },
  {
   "cell_type": "code",
   "execution_count": 45,
   "metadata": {},
   "outputs": [
    {
     "data": {
      "text/html": [
       "<div>\n",
       "<style scoped>\n",
       "    .dataframe tbody tr th:only-of-type {\n",
       "        vertical-align: middle;\n",
       "    }\n",
       "\n",
       "    .dataframe tbody tr th {\n",
       "        vertical-align: top;\n",
       "    }\n",
       "\n",
       "    .dataframe thead th {\n",
       "        text-align: right;\n",
       "    }\n",
       "</style>\n",
       "<table border=\"1\" class=\"dataframe\">\n",
       "  <thead>\n",
       "    <tr style=\"text-align: right;\">\n",
       "      <th></th>\n",
       "      <th>Case Number</th>\n",
       "      <th>Date</th>\n",
       "      <th>Year</th>\n",
       "      <th>Type</th>\n",
       "      <th>Country</th>\n",
       "      <th>Activity</th>\n",
       "      <th>Name</th>\n",
       "      <th>Sex</th>\n",
       "      <th>Age</th>\n",
       "      <th>Fatal (Y/N)</th>\n",
       "      <th>Species</th>\n",
       "      <th>Case Number.1</th>\n",
       "      <th>Case Number.2</th>\n",
       "      <th>Unnamed: 22</th>\n",
       "      <th>Unnamed: 23</th>\n",
       "    </tr>\n",
       "  </thead>\n",
       "  <tbody>\n",
       "    <tr>\n",
       "      <th>0</th>\n",
       "      <td>2016.09.18.c</td>\n",
       "      <td>18-Sep-16</td>\n",
       "      <td>2016</td>\n",
       "      <td>Unprovoked</td>\n",
       "      <td>USA</td>\n",
       "      <td>Surfing</td>\n",
       "      <td>male</td>\n",
       "      <td>M</td>\n",
       "      <td>16</td>\n",
       "      <td>N</td>\n",
       "      <td>NaN</td>\n",
       "      <td>2016.09.18.c</td>\n",
       "      <td>2016.09.18.c</td>\n",
       "      <td>NaN</td>\n",
       "      <td>NaN</td>\n",
       "    </tr>\n",
       "    <tr>\n",
       "      <th>1</th>\n",
       "      <td>2016.09.18.b</td>\n",
       "      <td>18-Sep-16</td>\n",
       "      <td>2016</td>\n",
       "      <td>Unprovoked</td>\n",
       "      <td>USA</td>\n",
       "      <td>Surfing</td>\n",
       "      <td>Chucky Luciano</td>\n",
       "      <td>M</td>\n",
       "      <td>36</td>\n",
       "      <td>N</td>\n",
       "      <td>NaN</td>\n",
       "      <td>2016.09.18.b</td>\n",
       "      <td>2016.09.18.b</td>\n",
       "      <td>NaN</td>\n",
       "      <td>NaN</td>\n",
       "    </tr>\n",
       "    <tr>\n",
       "      <th>2</th>\n",
       "      <td>2016.09.18.a</td>\n",
       "      <td>18-Sep-16</td>\n",
       "      <td>2016</td>\n",
       "      <td>Unprovoked</td>\n",
       "      <td>USA</td>\n",
       "      <td>Surfing</td>\n",
       "      <td>male</td>\n",
       "      <td>M</td>\n",
       "      <td>43</td>\n",
       "      <td>N</td>\n",
       "      <td>NaN</td>\n",
       "      <td>2016.09.18.a</td>\n",
       "      <td>2016.09.18.a</td>\n",
       "      <td>NaN</td>\n",
       "      <td>NaN</td>\n",
       "    </tr>\n",
       "  </tbody>\n",
       "</table>\n",
       "</div>"
      ],
      "text/plain": [
       "    Case Number       Date  Year        Type Country Activity            Name  \\\n",
       "0  2016.09.18.c  18-Sep-16  2016  Unprovoked     USA  Surfing            male   \n",
       "1  2016.09.18.b  18-Sep-16  2016  Unprovoked     USA  Surfing  Chucky Luciano   \n",
       "2  2016.09.18.a  18-Sep-16  2016  Unprovoked     USA  Surfing            male   \n",
       "\n",
       "  Sex  Age Fatal (Y/N) Species  Case Number.1 Case Number.2 Unnamed: 22  \\\n",
       "0    M  16           N      NaN  2016.09.18.c  2016.09.18.c         NaN   \n",
       "1    M  36           N      NaN  2016.09.18.b  2016.09.18.b         NaN   \n",
       "2    M  43           N      NaN  2016.09.18.a  2016.09.18.a         NaN   \n",
       "\n",
       "  Unnamed: 23  \n",
       "0         NaN  \n",
       "1         NaN  \n",
       "2         NaN  "
      ]
     },
     "metadata": {},
     "output_type": "display_data"
    }
   ],
   "source": [
    "# I delete columns that I will not need in my analysis:\n",
    "df = df.drop(['Area','Location','Injury','Time','Investigator or Source','pdf','href formula','href', 'original order'], axis=1)\n",
    "display(df.head(3))"
   ]
  },
  {
   "cell_type": "code",
   "execution_count": 46,
   "metadata": {},
   "outputs": [
    {
     "name": "stdout",
     "output_type": "stream",
     "text": [
      "Case Number: 2016.09.15 2016.07.14.4 2016.01.24.b 2015.12.23 2015.10.28.a 2015.07-10 1967.07.05 1962,08.30.b 1961.09.02.R 1952.08.05 1934.01.08.R 1900.00.00.R 1911.07.31.R\n",
      "Case Number.1: 2016.09.16 2016.07.14.R 2015.01.24.b 2015.11.07 2015.10.28 2015.07.10 1967/07.05 1962.08.30.b 1961.09,06.R 1952.08.04 1934.02.08.R 1919.00.00.R 1911.07.31.T\n",
      "\n",
      "Case Number: 2015.07-10 1934.01.08.R\n",
      "Case Number.2: 2015.07.10 1934.02.08.R\n"
     ]
    }
   ],
   "source": [
    "# Why are there three different Case Numbers? Are they really different?\n",
    "\n",
    "# Comparing Case Number and Case Number.1:\n",
    "comparing = []\n",
    "for i in range(len(df['Case Number'])):\n",
    "    if df['Case Number'][i] == df['Case Number.1'][i]:\n",
    "        comparing.append(True)\n",
    "    else:\n",
    "        comparing.append(False)\n",
    "\n",
    "# Different values:\n",
    "falsevalues = [i for i, x in enumerate(comparing) if not x]\n",
    "print('Case Number:',*[df['Case Number'][e] for e in falsevalues])\n",
    "print('Case Number.1:',*[df['Case Number.1'][e] for e in falsevalues])\n",
    "\n",
    "# Comparing Case Number and Case Number.2:\n",
    "comparing_2 = []\n",
    "for i in range(len(df['Case Number'])):\n",
    "    if df['Case Number'][i] == df['Case Number.2'][i]:\n",
    "        comparing_2.append(True)\n",
    "    else:\n",
    "        comparing_2.append(False)\n",
    "\n",
    "# Different values:\n",
    "falsevalues2 = [i for i, x in enumerate(comparing_2) if not x]\n",
    "print('\\nCase Number:',*[df['Case Number'][e] for e in falsevalues2])\n",
    "print('Case Number.2:',*[df['Case Number.2'][e] for e in falsevalues2])\n"
   ]
  },
  {
   "cell_type": "code",
   "execution_count": 47,
   "metadata": {},
   "outputs": [
    {
     "data": {
      "text/html": [
       "<div>\n",
       "<style scoped>\n",
       "    .dataframe tbody tr th:only-of-type {\n",
       "        vertical-align: middle;\n",
       "    }\n",
       "\n",
       "    .dataframe tbody tr th {\n",
       "        vertical-align: top;\n",
       "    }\n",
       "\n",
       "    .dataframe thead th {\n",
       "        text-align: right;\n",
       "    }\n",
       "</style>\n",
       "<table border=\"1\" class=\"dataframe\">\n",
       "  <thead>\n",
       "    <tr style=\"text-align: right;\">\n",
       "      <th></th>\n",
       "      <th>Case Number</th>\n",
       "      <th>Date</th>\n",
       "      <th>Year</th>\n",
       "      <th>Type</th>\n",
       "      <th>Country</th>\n",
       "      <th>Activity</th>\n",
       "      <th>Name</th>\n",
       "      <th>Sex</th>\n",
       "      <th>Age</th>\n",
       "      <th>Fatal (Y/N)</th>\n",
       "      <th>Species</th>\n",
       "      <th>Unnamed: 22</th>\n",
       "      <th>Unnamed: 23</th>\n",
       "    </tr>\n",
       "  </thead>\n",
       "  <tbody>\n",
       "    <tr>\n",
       "      <th>0</th>\n",
       "      <td>2016.09.18.c</td>\n",
       "      <td>18-Sep-16</td>\n",
       "      <td>2016</td>\n",
       "      <td>Unprovoked</td>\n",
       "      <td>USA</td>\n",
       "      <td>Surfing</td>\n",
       "      <td>male</td>\n",
       "      <td>M</td>\n",
       "      <td>16</td>\n",
       "      <td>N</td>\n",
       "      <td>NaN</td>\n",
       "      <td>NaN</td>\n",
       "      <td>NaN</td>\n",
       "    </tr>\n",
       "    <tr>\n",
       "      <th>1</th>\n",
       "      <td>2016.09.18.b</td>\n",
       "      <td>18-Sep-16</td>\n",
       "      <td>2016</td>\n",
       "      <td>Unprovoked</td>\n",
       "      <td>USA</td>\n",
       "      <td>Surfing</td>\n",
       "      <td>Chucky Luciano</td>\n",
       "      <td>M</td>\n",
       "      <td>36</td>\n",
       "      <td>N</td>\n",
       "      <td>NaN</td>\n",
       "      <td>NaN</td>\n",
       "      <td>NaN</td>\n",
       "    </tr>\n",
       "    <tr>\n",
       "      <th>2</th>\n",
       "      <td>2016.09.18.a</td>\n",
       "      <td>18-Sep-16</td>\n",
       "      <td>2016</td>\n",
       "      <td>Unprovoked</td>\n",
       "      <td>USA</td>\n",
       "      <td>Surfing</td>\n",
       "      <td>male</td>\n",
       "      <td>M</td>\n",
       "      <td>43</td>\n",
       "      <td>N</td>\n",
       "      <td>NaN</td>\n",
       "      <td>NaN</td>\n",
       "      <td>NaN</td>\n",
       "    </tr>\n",
       "  </tbody>\n",
       "</table>\n",
       "</div>"
      ],
      "text/plain": [
       "    Case Number       Date  Year        Type Country Activity            Name  \\\n",
       "0  2016.09.18.c  18-Sep-16  2016  Unprovoked     USA  Surfing            male   \n",
       "1  2016.09.18.b  18-Sep-16  2016  Unprovoked     USA  Surfing  Chucky Luciano   \n",
       "2  2016.09.18.a  18-Sep-16  2016  Unprovoked     USA  Surfing            male   \n",
       "\n",
       "  Sex  Age Fatal (Y/N) Species  Unnamed: 22 Unnamed: 23  \n",
       "0    M  16           N      NaN         NaN         NaN  \n",
       "1    M  36           N      NaN         NaN         NaN  \n",
       "2    M  43           N      NaN         NaN         NaN  "
      ]
     },
     "metadata": {},
     "output_type": "display_data"
    }
   ],
   "source": [
    "# Values that differ seem to be typographical errors. I can delete Case Number.1 and Case Number.2.\n",
    "df = df.drop(['Case Number.1','Case Number.2'], axis=1)\n",
    "display(df.head(3))"
   ]
  },
  {
   "cell_type": "code",
   "execution_count": 48,
   "metadata": {},
   "outputs": [
    {
     "name": "stdout",
     "output_type": "stream",
     "text": [
      "Case Number: 5976 unique values out of 5992\n"
     ]
    }
   ],
   "source": [
    "# In fact, 'Case Number' would not be valid as a 'primary key' since it contains repeated values:\n",
    "print('Case Number:',len(set(df['Case Number'])),'unique values out of',len(df['Case Number']))"
   ]
  },
  {
   "cell_type": "code",
   "execution_count": 49,
   "metadata": {},
   "outputs": [
    {
     "name": "stdout",
     "output_type": "stream",
     "text": [
      "5992\n",
      "5976\n"
     ]
    }
   ],
   "source": [
    "# Is this because my dataset has duplicate rows?\n",
    "print(len(df.drop_duplicates()))\n",
    "print(len(df['Case Number'].drop_duplicates()))\n",
    "\n",
    "# It seems that there are no duplicate rows in the dataframe, it is only the 'Case Number' column that contains\n",
    "# duplicate values."
   ]
  },
  {
   "cell_type": "code",
   "execution_count": 50,
   "metadata": {},
   "outputs": [
    {
     "data": {
      "text/html": [
       "<div>\n",
       "<style scoped>\n",
       "    .dataframe tbody tr th:only-of-type {\n",
       "        vertical-align: middle;\n",
       "    }\n",
       "\n",
       "    .dataframe tbody tr th {\n",
       "        vertical-align: top;\n",
       "    }\n",
       "\n",
       "    .dataframe thead th {\n",
       "        text-align: right;\n",
       "    }\n",
       "</style>\n",
       "<table border=\"1\" class=\"dataframe\">\n",
       "  <thead>\n",
       "    <tr style=\"text-align: right;\">\n",
       "      <th></th>\n",
       "      <th>Date</th>\n",
       "      <th>Year</th>\n",
       "      <th>Type</th>\n",
       "      <th>Country</th>\n",
       "      <th>Activity</th>\n",
       "      <th>Name</th>\n",
       "      <th>Sex</th>\n",
       "      <th>Age</th>\n",
       "      <th>Fatal (Y/N)</th>\n",
       "      <th>Species</th>\n",
       "      <th>Unnamed: 22</th>\n",
       "      <th>Unnamed: 23</th>\n",
       "    </tr>\n",
       "  </thead>\n",
       "  <tbody>\n",
       "    <tr>\n",
       "      <th>0</th>\n",
       "      <td>18-Sep-16</td>\n",
       "      <td>2016</td>\n",
       "      <td>Unprovoked</td>\n",
       "      <td>USA</td>\n",
       "      <td>Surfing</td>\n",
       "      <td>male</td>\n",
       "      <td>M</td>\n",
       "      <td>16</td>\n",
       "      <td>N</td>\n",
       "      <td>NaN</td>\n",
       "      <td>NaN</td>\n",
       "      <td>NaN</td>\n",
       "    </tr>\n",
       "    <tr>\n",
       "      <th>1</th>\n",
       "      <td>18-Sep-16</td>\n",
       "      <td>2016</td>\n",
       "      <td>Unprovoked</td>\n",
       "      <td>USA</td>\n",
       "      <td>Surfing</td>\n",
       "      <td>Chucky Luciano</td>\n",
       "      <td>M</td>\n",
       "      <td>36</td>\n",
       "      <td>N</td>\n",
       "      <td>NaN</td>\n",
       "      <td>NaN</td>\n",
       "      <td>NaN</td>\n",
       "    </tr>\n",
       "    <tr>\n",
       "      <th>2</th>\n",
       "      <td>18-Sep-16</td>\n",
       "      <td>2016</td>\n",
       "      <td>Unprovoked</td>\n",
       "      <td>USA</td>\n",
       "      <td>Surfing</td>\n",
       "      <td>male</td>\n",
       "      <td>M</td>\n",
       "      <td>43</td>\n",
       "      <td>N</td>\n",
       "      <td>NaN</td>\n",
       "      <td>NaN</td>\n",
       "      <td>NaN</td>\n",
       "    </tr>\n",
       "  </tbody>\n",
       "</table>\n",
       "</div>"
      ],
      "text/plain": [
       "        Date  Year        Type Country Activity            Name Sex  Age  \\\n",
       "0  18-Sep-16  2016  Unprovoked     USA  Surfing            male    M  16   \n",
       "1  18-Sep-16  2016  Unprovoked     USA  Surfing  Chucky Luciano    M  36   \n",
       "2  18-Sep-16  2016  Unprovoked     USA  Surfing            male    M  43   \n",
       "\n",
       "  Fatal (Y/N) Species  Unnamed: 22 Unnamed: 23  \n",
       "0           N      NaN         NaN         NaN  \n",
       "1           N      NaN         NaN         NaN  \n",
       "2           N      NaN         NaN         NaN  "
      ]
     },
     "metadata": {},
     "output_type": "display_data"
    }
   ],
   "source": [
    "# Consequently, I delete this column too, and I will create a correct Case Number later (using df.apply):\n",
    "df = df.drop(['Case Number'], axis=1)\n",
    "display(df.head(3))"
   ]
  },
  {
   "cell_type": "code",
   "execution_count": 51,
   "metadata": {},
   "outputs": [
    {
     "name": "stdout",
     "output_type": "stream",
     "text": [
      "Country          43\n",
      "Activity        527\n",
      "Name            200\n",
      "Sex             567\n",
      "Age            2681\n",
      "Fatal (Y/N)      19\n",
      "Species        2934\n",
      "Unnamed: 22    5991\n",
      "Unnamed: 23    5990\n",
      "dtype: int64\n",
      "Total rows in the datataset: 5992\n"
     ]
    }
   ],
   "source": [
    "# Evaluating missing values:\n",
    "null_cols = df.isnull().sum()\n",
    "print(null_cols[null_cols > 0])\n",
    "print('Total rows in the datataset:',df.shape[0])\n",
    "# Some columns have relatively few null values while others have thousands of nulls."
   ]
  },
  {
   "cell_type": "code",
   "execution_count": 52,
   "metadata": {},
   "outputs": [],
   "source": [
    "# What's going on with 'Unnamed: 22' and 'Unnamed: 23'?\n",
    "\n",
    "# Most of their values are null and we don't have any information about their content.\n",
    "# I can drop them:\n",
    "drop_cols = list(null_cols[null_cols > 5000].index)\n",
    "df = df.drop(drop_cols, axis=1)"
   ]
  },
  {
   "cell_type": "code",
   "execution_count": 53,
   "metadata": {},
   "outputs": [
    {
     "name": "stdout",
     "output_type": "stream",
     "text": [
      "['Date', 'Year', 'Type', 'Country', 'Activity', 'Name', 'Sex ', 'Age', 'Fatal (Y/N)', 'Species ']\n"
     ]
    }
   ],
   "source": [
    "# Variables I can play with at this point:\n",
    "print([e for e in df.columns])"
   ]
  },
  {
   "cell_type": "code",
   "execution_count": 54,
   "metadata": {},
   "outputs": [
    {
     "name": "stdout",
     "output_type": "stream",
     "text": [
      "['Date', 'Year', 'Type', 'Country', 'Activity', 'Name', 'Sex', 'Age', 'Fatal', 'Species']\n"
     ]
    }
   ],
   "source": [
    "# Renaming columns with unhelpful names:\n",
    "df = df.rename(columns={'Fatal (Y/N)': 'Fatal'})\n",
    "df = df.rename(columns={'Sex ': 'Sex'})\n",
    "df = df.rename(columns={'Species ': 'Species'})\n",
    "print([e for e in df.columns])"
   ]
  },
  {
   "cell_type": "code",
   "execution_count": 55,
   "metadata": {},
   "outputs": [
    {
     "name": "stdout",
     "output_type": "stream",
     "text": [
      "Date        object\n",
      "Year         int64\n",
      "Type        object\n",
      "Country     object\n",
      "Activity    object\n",
      "Name        object\n",
      "Sex         object\n",
      "Age         object\n",
      "Fatal       object\n",
      "Species     object\n",
      "dtype: object\n"
     ]
    }
   ],
   "source": [
    "# Are data types correct?\n",
    "print(df.dtypes)"
   ]
  },
  {
   "cell_type": "code",
   "execution_count": null,
   "metadata": {},
   "outputs": [],
   "source": [
    "'''\n",
    "Keep in mind that if a column contains null values, it cannot take any type:\n",
    "\n",
    "https://pandas.pydata.org/pandas-docs/stable/user_guide/gotchas.html\n",
    "NA type promotions\n",
    "When introducing NAs into an existing Series or DataFrame via reindex() or some other means, boolean and integer types\n",
    "will be promoted to a different dtype in order to store the NAs. The promotions are summarized in this table:\n",
    "Typeclass / Promotion dtype for storing NAs\n",
    "floating / no change\n",
    "object / no change\n",
    "integer / cast to float64\n",
    "boolean / cast to object\n",
    "'''"
   ]
  },
  {
   "cell_type": "code",
   "execution_count": 56,
   "metadata": {},
   "outputs": [
    {
     "data": {
      "text/plain": [
       "{' N', '#VALUE!', 'F', 'N', 'N ', 'UNKNOWN', 'Y', 'n', nan}"
      ]
     },
     "execution_count": 56,
     "metadata": {},
     "output_type": "execute_result"
    }
   ],
   "source": [
    "# Examples:\n",
    "\n",
    "# 'Age' must be an integer but it have to be cleaned first.\n",
    "# However, since it contains NaN values, I will be converted it into a float.\n",
    "set(df['Age'])\n",
    "\n",
    "# Fatal (once cleaned) could be a boolean but it contains NaN values, so it has to be an object.\n",
    "set(df['Fatal'])"
   ]
  },
  {
   "cell_type": "code",
   "execution_count": 57,
   "metadata": {},
   "outputs": [
    {
     "name": "stdout",
     "output_type": "stream",
     "text": [
      "{'NaN', 'Y', 'N'}\n"
     ]
    }
   ],
   "source": [
    "# Let's clean up the dataframe!\n",
    "\n",
    "# Fatal column:\n",
    "df['Fatal'] = [re.sub('N\\s|\\sN', 'N', str(e)) for e in df['Fatal']]\n",
    "df['Fatal'] = [re.sub('F', 'Y', str(e)) for e in df['Fatal']]\n",
    "df['Fatal'] = [re.sub('UNKNOWN|#VALUE!', str(np.nan), str(e)) for e in df['Fatal']]\n",
    "df['Fatal'] = [re.sub('n', 'N', str(e)) for e in df['Fatal']]\n",
    "print(set(df['Fatal']))\n"
   ]
  },
  {
   "cell_type": "code",
   "execution_count": 58,
   "metadata": {},
   "outputs": [
    {
     "name": "stdout",
     "output_type": "stream",
     "text": [
      "{nan, 'Y', 'N'}\n",
      "object\n"
     ]
    }
   ],
   "source": [
    "df['Fatal'].replace({'NaN': np.nan}, inplace=True)\n",
    "print(set(df.Fatal))\n",
    "print(df.Fatal.dtypes)"
   ]
  },
  {
   "cell_type": "code",
   "execution_count": 59,
   "metadata": {},
   "outputs": [
    {
     "name": "stdout",
     "output_type": "stream",
     "text": [
      "{nan, 'May', 'Jan', 'Sep', 'Dec', 'Oct', 'Mar', 'Aug', 'Jul', 'Feb', 'Apr', 'Jun', 'Nov'}\n"
     ]
    },
    {
     "data": {
      "text/html": [
       "<div>\n",
       "<style scoped>\n",
       "    .dataframe tbody tr th:only-of-type {\n",
       "        vertical-align: middle;\n",
       "    }\n",
       "\n",
       "    .dataframe tbody tr th {\n",
       "        vertical-align: top;\n",
       "    }\n",
       "\n",
       "    .dataframe thead th {\n",
       "        text-align: right;\n",
       "    }\n",
       "</style>\n",
       "<table border=\"1\" class=\"dataframe\">\n",
       "  <thead>\n",
       "    <tr style=\"text-align: right;\">\n",
       "      <th></th>\n",
       "      <th>Date</th>\n",
       "      <th>Year</th>\n",
       "      <th>Type</th>\n",
       "      <th>Country</th>\n",
       "      <th>Activity</th>\n",
       "      <th>Name</th>\n",
       "      <th>Sex</th>\n",
       "      <th>Age</th>\n",
       "      <th>Fatal</th>\n",
       "      <th>Species</th>\n",
       "      <th>Month</th>\n",
       "    </tr>\n",
       "  </thead>\n",
       "  <tbody>\n",
       "    <tr>\n",
       "      <th>0</th>\n",
       "      <td>18-Sep-16</td>\n",
       "      <td>2016</td>\n",
       "      <td>Unprovoked</td>\n",
       "      <td>USA</td>\n",
       "      <td>Surfing</td>\n",
       "      <td>male</td>\n",
       "      <td>M</td>\n",
       "      <td>16</td>\n",
       "      <td>N</td>\n",
       "      <td>NaN</td>\n",
       "      <td>Sep</td>\n",
       "    </tr>\n",
       "    <tr>\n",
       "      <th>1</th>\n",
       "      <td>18-Sep-16</td>\n",
       "      <td>2016</td>\n",
       "      <td>Unprovoked</td>\n",
       "      <td>USA</td>\n",
       "      <td>Surfing</td>\n",
       "      <td>Chucky Luciano</td>\n",
       "      <td>M</td>\n",
       "      <td>36</td>\n",
       "      <td>N</td>\n",
       "      <td>NaN</td>\n",
       "      <td>Sep</td>\n",
       "    </tr>\n",
       "    <tr>\n",
       "      <th>2</th>\n",
       "      <td>18-Sep-16</td>\n",
       "      <td>2016</td>\n",
       "      <td>Unprovoked</td>\n",
       "      <td>USA</td>\n",
       "      <td>Surfing</td>\n",
       "      <td>male</td>\n",
       "      <td>M</td>\n",
       "      <td>43</td>\n",
       "      <td>N</td>\n",
       "      <td>NaN</td>\n",
       "      <td>Sep</td>\n",
       "    </tr>\n",
       "  </tbody>\n",
       "</table>\n",
       "</div>"
      ],
      "text/plain": [
       "        Date  Year        Type Country Activity            Name Sex Age Fatal  \\\n",
       "0  18-Sep-16  2016  Unprovoked     USA  Surfing            male   M  16     N   \n",
       "1  18-Sep-16  2016  Unprovoked     USA  Surfing  Chucky Luciano   M  36     N   \n",
       "2  18-Sep-16  2016  Unprovoked     USA  Surfing            male   M  43     N   \n",
       "\n",
       "  Species Month  \n",
       "0     NaN   Sep  \n",
       "1     NaN   Sep  \n",
       "2     NaN   Sep  "
      ]
     },
     "metadata": {},
     "output_type": "display_data"
    }
   ],
   "source": [
    "# Date column:\n",
    "\n",
    "# I'm going to extract 'month' information:\n",
    "# Months are stored before a dash.\n",
    "lista_date = [re.findall(\"(?i)[a-z]+-\", str(e)) for e in df['Date']]\n",
    "\n",
    "lista_date_2 = []\n",
    "for e in lista_date:\n",
    "    if len(e)>0:\n",
    "        lista_date_2.append(e[0][:-1])\n",
    "    else:\n",
    "        lista_date_2.append('NaN')\n",
    "\n",
    "lista_date_2 = [re.sub('Sept', 'Sep', str(e)) for e in lista_date_2]\n",
    "lista_date_2 = [re.sub('March', 'Mar', str(e)) for e in lista_date_2]\n",
    "lista_date_2 = [re.sub('Ap$', 'Apr', str(e)) for e in lista_date_2]\n",
    "lista_date_2 = [re.sub('(?i)mid|Summer|Spanish|Jut', 'NaN', str(e)) for e in lista_date_2]\n",
    "\n",
    "df['Month'] = lista_date_2\n",
    "df['Month'].replace({'NaN': np.nan}, inplace=True)\n",
    "print(set(df.Month))\n",
    "display(df.head(3))"
   ]
  },
  {
   "cell_type": "code",
   "execution_count": 96,
   "metadata": {},
   "outputs": [
    {
     "name": "stdout",
     "output_type": "stream",
     "text": [
      "Jul    635\n",
      "Aug    579\n",
      "Sep    523\n",
      "Jan    500\n",
      "Jun    473\n",
      "Dec    417\n",
      "Oct    411\n",
      "Apr    407\n",
      "Mar    401\n",
      "Nov    397\n",
      "May    369\n",
      "Feb    360\n",
      "Name: Month, dtype: int64\n"
     ]
    },
    {
     "data": {
      "image/png": "[encoded data removed]",
      "text/plain": [
       "<Figure size 432x288 with 1 Axes>"
      ]
     },
     "metadata": {},
     "output_type": "display_data"
    }
   ],
   "source": [
    "print(df['Month'].value_counts())\n",
    "explode = [0.1 for i in range(len(df['Month'].value_counts().index.tolist()))]\n",
    "plt.pie([e for e in df['Month'].value_counts()], explode = explode, labels=df['Month'].value_counts().index.tolist())\n",
    "plt.axis('equal')\n",
    "plt.show()"
   ]
  },
  {
   "cell_type": "code",
   "execution_count": 61,
   "metadata": {},
   "outputs": [
    {
     "name": "stdout",
     "output_type": "stream",
     "text": [
      "124 rows equal 0 before the completion\n",
      "33 rows equal 0 after the completion\n"
     ]
    }
   ],
   "source": [
    "# Year column:\n",
    "\n",
    "# Completing 'Year' variable with 'Date' variable ('Date' contains some years that are not collected in 'Year' column):\n",
    "\n",
    "lista_year = [re.findall(\"[0-9]{4}\", str(e)) for e in df['Date']]\n",
    "\n",
    "lista_year_2 = []\n",
    "for e in lista_year:\n",
    "    if len(e)==1:\n",
    "        lista_year_2.append(int(e[0]))\n",
    "    else:\n",
    "        lista_year_2.append(None)\n",
    "\n",
    "print(list(df['Year']).count(0), \"rows equal 0 before the completion\")\n",
    "\n",
    "for i in range(len(lista_year_2)):\n",
    "    if lista_year_2[i] != None:\n",
    "        if df['Year'][i] == 0:\n",
    "            # df['Year'][i] = lista_year_2[i] # SettingWithCopyWarning: A value is trying to be set on a copy\n",
    "            # of a slice from a DataFrame\n",
    "            df.at[i,'Year'] = lista_year_2[i]\n",
    "\n",
    "print(list(df['Year']).count(0), \"rows equal 0 after the completion\")\n"
   ]
  },
  {
   "cell_type": "code",
   "execution_count": 62,
   "metadata": {},
   "outputs": [
    {
     "name": "stdout",
     "output_type": "stream",
     "text": [
      "float64\n"
     ]
    }
   ],
   "source": [
    "# Values below 1000 in the Year variable do not seem very reliable. I convert them to NaN values:\n",
    "\n",
    "setyear = set(df['Year'][df['Year']<1000])\n",
    "for e in setyear:\n",
    "    df['Year'].replace({e: np.nan}, inplace=True)\n",
    "\n",
    "# Because NaN is a float, this forces an array of integers with any missing values to become floating point.\n",
    "# https://pandas.pydata.org/pandas-docs/stable/user_guide/gotchas.html\n",
    "# If you need to represent integers with possibly missing values, you can use one of the nullable-integer extension dtypes\n",
    "# provided by pandas.\n",
    "\n",
    "# However, I'm going to keep the float type because this is not going to pose any problem in my analysis.\n",
    "# (there is no need to converti it to int).\n",
    "\n",
    "print(df.Year.dtypes)"
   ]
  },
  {
   "cell_type": "code",
   "execution_count": 63,
   "metadata": {},
   "outputs": [
    {
     "data": {
      "text/html": [
       "<div>\n",
       "<style scoped>\n",
       "    .dataframe tbody tr th:only-of-type {\n",
       "        vertical-align: middle;\n",
       "    }\n",
       "\n",
       "    .dataframe tbody tr th {\n",
       "        vertical-align: top;\n",
       "    }\n",
       "\n",
       "    .dataframe thead th {\n",
       "        text-align: right;\n",
       "    }\n",
       "</style>\n",
       "<table border=\"1\" class=\"dataframe\">\n",
       "  <thead>\n",
       "    <tr style=\"text-align: right;\">\n",
       "      <th></th>\n",
       "      <th>Year</th>\n",
       "      <th>Type</th>\n",
       "      <th>Country</th>\n",
       "      <th>Activity</th>\n",
       "      <th>Name</th>\n",
       "      <th>Sex</th>\n",
       "      <th>Age</th>\n",
       "      <th>Fatal</th>\n",
       "      <th>Species</th>\n",
       "      <th>Month</th>\n",
       "    </tr>\n",
       "  </thead>\n",
       "  <tbody>\n",
       "    <tr>\n",
       "      <th>0</th>\n",
       "      <td>2016.0</td>\n",
       "      <td>Unprovoked</td>\n",
       "      <td>USA</td>\n",
       "      <td>Surfing</td>\n",
       "      <td>male</td>\n",
       "      <td>M</td>\n",
       "      <td>16</td>\n",
       "      <td>N</td>\n",
       "      <td>NaN</td>\n",
       "      <td>Sep</td>\n",
       "    </tr>\n",
       "    <tr>\n",
       "      <th>1</th>\n",
       "      <td>2016.0</td>\n",
       "      <td>Unprovoked</td>\n",
       "      <td>USA</td>\n",
       "      <td>Surfing</td>\n",
       "      <td>Chucky Luciano</td>\n",
       "      <td>M</td>\n",
       "      <td>36</td>\n",
       "      <td>N</td>\n",
       "      <td>NaN</td>\n",
       "      <td>Sep</td>\n",
       "    </tr>\n",
       "    <tr>\n",
       "      <th>2</th>\n",
       "      <td>2016.0</td>\n",
       "      <td>Unprovoked</td>\n",
       "      <td>USA</td>\n",
       "      <td>Surfing</td>\n",
       "      <td>male</td>\n",
       "      <td>M</td>\n",
       "      <td>43</td>\n",
       "      <td>N</td>\n",
       "      <td>NaN</td>\n",
       "      <td>Sep</td>\n",
       "    </tr>\n",
       "  </tbody>\n",
       "</table>\n",
       "</div>"
      ],
      "text/plain": [
       "     Year        Type Country Activity            Name Sex Age Fatal Species  \\\n",
       "0  2016.0  Unprovoked     USA  Surfing            male   M  16     N     NaN   \n",
       "1  2016.0  Unprovoked     USA  Surfing  Chucky Luciano   M  36     N     NaN   \n",
       "2  2016.0  Unprovoked     USA  Surfing            male   M  43     N     NaN   \n",
       "\n",
       "  Month  \n",
       "0   Sep  \n",
       "1   Sep  \n",
       "2   Sep  "
      ]
     },
     "metadata": {},
     "output_type": "display_data"
    }
   ],
   "source": [
    "# I won't need 'Date' column anymore:\n",
    "df = df.drop(['Date'], axis=1)\n",
    "display(df.head(3))"
   ]
  },
  {
   "cell_type": "code",
   "execution_count": 64,
   "metadata": {},
   "outputs": [
    {
     "data": {
      "text/html": [
       "<div>\n",
       "<style scoped>\n",
       "    .dataframe tbody tr th:only-of-type {\n",
       "        vertical-align: middle;\n",
       "    }\n",
       "\n",
       "    .dataframe tbody tr th {\n",
       "        vertical-align: top;\n",
       "    }\n",
       "\n",
       "    .dataframe thead th {\n",
       "        text-align: right;\n",
       "    }\n",
       "</style>\n",
       "<table border=\"1\" class=\"dataframe\">\n",
       "  <thead>\n",
       "    <tr style=\"text-align: right;\">\n",
       "      <th></th>\n",
       "      <th>Year</th>\n",
       "      <th>Type</th>\n",
       "      <th>Country</th>\n",
       "      <th>Activity</th>\n",
       "      <th>Name</th>\n",
       "      <th>Sex</th>\n",
       "      <th>Age</th>\n",
       "      <th>Fatal</th>\n",
       "      <th>Species</th>\n",
       "      <th>Month</th>\n",
       "      <th>Century</th>\n",
       "    </tr>\n",
       "  </thead>\n",
       "  <tbody>\n",
       "    <tr>\n",
       "      <th>0</th>\n",
       "      <td>2016.0</td>\n",
       "      <td>Unprovoked</td>\n",
       "      <td>USA</td>\n",
       "      <td>Surfing</td>\n",
       "      <td>male</td>\n",
       "      <td>M</td>\n",
       "      <td>16</td>\n",
       "      <td>N</td>\n",
       "      <td>NaN</td>\n",
       "      <td>Sep</td>\n",
       "      <td>XXI</td>\n",
       "    </tr>\n",
       "    <tr>\n",
       "      <th>1</th>\n",
       "      <td>2016.0</td>\n",
       "      <td>Unprovoked</td>\n",
       "      <td>USA</td>\n",
       "      <td>Surfing</td>\n",
       "      <td>Chucky Luciano</td>\n",
       "      <td>M</td>\n",
       "      <td>36</td>\n",
       "      <td>N</td>\n",
       "      <td>NaN</td>\n",
       "      <td>Sep</td>\n",
       "      <td>XXI</td>\n",
       "    </tr>\n",
       "    <tr>\n",
       "      <th>2</th>\n",
       "      <td>2016.0</td>\n",
       "      <td>Unprovoked</td>\n",
       "      <td>USA</td>\n",
       "      <td>Surfing</td>\n",
       "      <td>male</td>\n",
       "      <td>M</td>\n",
       "      <td>43</td>\n",
       "      <td>N</td>\n",
       "      <td>NaN</td>\n",
       "      <td>Sep</td>\n",
       "      <td>XXI</td>\n",
       "    </tr>\n",
       "  </tbody>\n",
       "</table>\n",
       "</div>"
      ],
      "text/plain": [
       "     Year        Type Country Activity            Name Sex Age Fatal Species  \\\n",
       "0  2016.0  Unprovoked     USA  Surfing            male   M  16     N     NaN   \n",
       "1  2016.0  Unprovoked     USA  Surfing  Chucky Luciano   M  36     N     NaN   \n",
       "2  2016.0  Unprovoked     USA  Surfing            male   M  43     N     NaN   \n",
       "\n",
       "  Month Century  \n",
       "0   Sep     XXI  \n",
       "1   Sep     XXI  \n",
       "2   Sep     XXI  "
      ]
     },
     "metadata": {},
     "output_type": "display_data"
    }
   ],
   "source": [
    "# Binning 'Year' to create a new variable: 'Century':\n",
    "\n",
    "# print(df['Year'].min()) # 1543.0\n",
    "# print(df['Year'].max()) # 2016.0\n",
    "\n",
    "year_labels = ['XVI','XVII','XVIII','XIX','XX','XXI']\n",
    "cutoffs = [1499,1599,1699,1799,1899,1999,2099]\n",
    "century = pd.cut(df['Year'], cutoffs, labels=year_labels)\n",
    "\n",
    "df['Century'] = century\n",
    "display(df.head(3))"
   ]
  },
  {
   "cell_type": "code",
   "execution_count": 95,
   "metadata": {},
   "outputs": [
    {
     "name": "stdout",
     "output_type": "stream",
     "text": [
      "XX       3545\n",
      "XXI      1868\n",
      "XIX       511\n",
      "XVIII      22\n",
      "XVII        5\n",
      "XVI         5\n",
      "Name: Century, dtype: int64\n"
     ]
    },
    {
     "data": {
      "image/png": "[encoded data removed]",
      "text/plain": [
       "<Figure size 432x288 with 1 Axes>"
      ]
     },
     "metadata": {},
     "output_type": "display_data"
    }
   ],
   "source": [
    "# https://pythonspot.com/matplotlib-pie-chart/\n",
    "# https://matplotlib.org/3.1.1/gallery/pie_and_polar_charts/pie_features.html\n",
    "\n",
    "print(df['Century'].value_counts())\n",
    "century_value_counts = [e for e in df['Century'].value_counts()]\n",
    "century_value_counts_grouped = [century_value_counts[0],century_value_counts[1],century_value_counts[2],century_value_counts[3]+century_value_counts[4]+century_value_counts[5]]\n",
    "\n",
    "explode = [0.1 for i in range(len(century_value_counts_grouped))]\n",
    "plt.pie(century_value_counts_grouped, explode=explode, labels=['XX','XXI','XIX','XVI-XVIII'])\n",
    "plt.axis('equal')\n",
    "plt.show()"
   ]
  },
  {
   "cell_type": "code",
   "execution_count": 66,
   "metadata": {},
   "outputs": [],
   "source": [
    "# Activity column:\n",
    "\n",
    "# Looking for -ing verbs:\n",
    "lista_activity = [re.findall(\"(?i)[a-z]+ing\", str(e)) for e in df['Activity']] \n",
    "\n",
    "lista_activity_2 = []\n",
    "for e in lista_activity:\n",
    "    if len(e)>0:\n",
    "        lista_activity_2.append(e[0])\n",
    "    else:\n",
    "        lista_activity_2.append('Others')\n",
    "\n",
    "# lista_activity_2 = [e.capitalize() if e != None else None for e in lista_activity_2]\n",
    "lista_activity_2 = [e.capitalize() for e in lista_activity_2]"
   ]
  },
  {
   "cell_type": "code",
   "execution_count": 67,
   "metadata": {},
   "outputs": [
    {
     "name": "stdout",
     "output_type": "stream",
     "text": [
      "{'Traveling', 'Angling', 'Trailing', 'Examining', 'Oystering', 'Dropping', 'Returning', 'Sailboarding', 'Netting', 'Cutting', 'Sitting', 'Abandoning', 'Yachting', 'Measuring', 'Lying', 'Throwing', 'Chasing', 'Deserting', 'Feeding', 'Salvaging', 'Touching', 'Seeing', 'Murdering', 'Racing', 'Climbing', 'Pearling', 'Chumming', 'Towing', 'Resting', 'Clamming', 'Stuffing', 'Hanging', 'Rescuing', 'Teasing', 'Trying', 'Bringing', 'Dismantling', 'Meshing', 'Launching', 'Lobstering', 'Others', 'Expecting', 'Wading', 'Thing', 'Watching', 'Sculling', 'Boeing', 'Lining', 'Windsurfing', 'Bathing', 'Travelling', 'Leaving', 'Loading', 'Splashing', 'Hunting', 'Holding', 'Competing', 'Bodysurfing', 'Exercising', 'Fleeing', 'Lashing', 'Pulling', 'Sittting', 'Missing', 'Fighting', 'Involving', 'Awaiting', 'Removing', 'Canoeing', 'Bodyboarding', 'Drawing', 'Landing', 'Moving', 'Ding', 'Kiteboarding', 'Working', 'Drowning', 'Guarding', 'Skiing', 'Crayfishing', 'Reviving', 'Hiking', 'Tagging', 'Testing', 'Gigging', 'Preparing', 'Investigating', 'Being', 'Freediving', 'Petting', 'Dragging', 'Attaching', 'Hauling', 'Surfing', 'Inspecting', 'Swimming', 'Playing', 'Filming', 'Rowing', 'Wearing', 'Harassing', 'Reading', 'Searching', 'Walking', 'Seining', 'Flying', 'Sing', 'Boarding', 'Fishing', 'Gaffing', 'Collecting', 'Shelling', 'Footing', 'Pursuing', 'Cleaning', 'Kitesurfing', 'Crouching', 'Crossing', 'Coming', 'Snorkeling', 'Feeling', 'Sunbathing', 'Sailing', 'Killing', 'During', 'Kneeling', 'Harpooning', 'Observing', 'Casting', 'Burning', 'Crawling', 'Standing', 'Longling', 'Restraining', 'Paddleboarding', 'Paddling', 'Finning', 'Conducting', 'Picking', 'Hooking', 'Catching', 'Skindiving', 'Scurfing', 'Dangling', 'Shooting', 'Gathering', 'Paddleskiing', 'Stamding', 'Ditching', 'Taking', 'Painting', 'Scooping', 'Shrimping', 'Setting', 'Bending', 'Wakeboarding', 'Defecating', 'Floating', 'Jumping', 'Sleeping', 'Kayaking', 'Thrashing', 'Helping', 'Photographing', 'Diving', 'Escaping', 'Treading', 'Riding', 'Spearing', 'Checking', 'Retrieving', 'Hoisting', 'Morning', 'Foundering', 'Carrying', 'Lifesaving', 'Washing', 'Wrangling', 'Waiting', 'Ascending', 'Attempting', 'Spearfishing', 'Sinking', 'Dynamiting', 'Cruising', 'Clinging', 'Crabbing', 'Boating'}\n"
     ]
    }
   ],
   "source": [
    "print(set(lista_activity_2))"
   ]
  },
  {
   "cell_type": "code",
   "execution_count": 68,
   "metadata": {},
   "outputs": [
    {
     "name": "stdout",
     "output_type": "stream",
     "text": [
      "[('Swimming', 1047), ('Surfing', 1013), ('Others', 894), ('Fishing', 687), ('Diving', 509), ('Spearfishing', 395), ('Bathing', 177), ('Wading', 162), ('Standing', 128), ('Boarding', 127), ('Snorkeling', 82), ('Floating', 46), ('Treading', 39), ('Kayaking', 35), ('Skiing', 34), ('Attempting', 30), ('Playing', 25), ('Walking', 24), ('Sitting', 21), ('Rowing', 21), ('Windsurfing', 20), ('Paddling', 16), ('Freediving', 14), ('Sinking', 14), ('Canoeing', 13), ('Sailing', 13), ('Collecting', 12), ('Netting', 11), ('Skindiving', 11), ('Washing', 11)]\n"
     ]
    }
   ],
   "source": [
    "# I'm going to add to the \"Others\" category those activities with an occurrence < 10:\n",
    "lista_aux = []\n",
    "for e in set(lista_activity_2):\n",
    "    lista_aux.append((e, lista_activity_2.count(e)))\n",
    "lista_aux.sort(key=lambda tup: tup[1], reverse=True)\n",
    "\n",
    "print([e for e in lista_aux if e[1]> 10])\n",
    "activities = [e[0] for e in lista_aux if e[1]> 10]"
   ]
  },
  {
   "cell_type": "code",
   "execution_count": 69,
   "metadata": {},
   "outputs": [
    {
     "name": "stdout",
     "output_type": "stream",
     "text": [
      "{'Paddling', 'Swimming', 'Playing', 'Skindiving', 'Rowing', 'Netting', 'Walking', 'Sitting', 'Canoeing', 'Boarding', 'Floating', 'Fishing', 'Collecting', 'Kayaking', 'Snorkeling', 'Diving', 'Treading', 'Skiing', 'Sailing', 'Others', 'Washing', 'Freediving', 'Wading', 'Attempting', 'Spearfishing', 'Windsurfing', 'Standing', 'Sinking', 'Bathing', 'Surfing'}\n"
     ]
    }
   ],
   "source": [
    "lista_activity_3 = ['Others' if e not in activities else e for e in lista_activity_2]\n",
    "print(set(lista_activity_3))"
   ]
  },
  {
   "cell_type": "code",
   "execution_count": 70,
   "metadata": {},
   "outputs": [],
   "source": [
    "# Grouping activities by categories:\n",
    "lista_activity_3 = [re.sub('Boarding|Skiing', 'WaterSkiing', str(e)) for e in lista_activity_3]\n",
    "lista_activity_3 = [re.sub('Canoeing|Rowing|Kayaking', 'Paddling', str(e)) for e in lista_activity_3]\n",
    "lista_activity_3 = [re.sub('Bathing|Floating|Treading', 'Swimming', str(e)) for e in lista_activity_3]\n",
    "lista_activity_3 = [re.sub('Snorkeling|Skindiving', 'Freediving', str(e)) for e in lista_activity_3]\n",
    "lista_activity_3 = [re.sub('Wading|Walking|Playing|Sitting|Standing','ShoreActivities', str(e)) for e in lista_activity_3]\n",
    "lista_activity_3 = [re.sub('Netting|Collecting','Fishing', str(e)) for e in lista_activity_3]\n",
    "lista_activity_3 = [re.sub('Attempting|Washing','Others', str(e)) for e in lista_activity_3]"
   ]
  },
  {
   "cell_type": "code",
   "execution_count": 71,
   "metadata": {},
   "outputs": [
    {
     "name": "stdout",
     "output_type": "stream",
     "text": [
      "{'Others', 'WaterSkiing', 'Freediving', 'Paddling', 'Swimming', 'Diving', 'Sailing', 'Fishing', 'Spearfishing', 'Windsurfing', 'Sinking', 'Surfing', 'ShoreActivities'}\n"
     ]
    }
   ],
   "source": [
    "print(set(lista_activity_3))"
   ]
  },
  {
   "cell_type": "code",
   "execution_count": null,
   "metadata": {},
   "outputs": [],
   "source": [
    "# Looking for other important activities to add (no -ing verbs):\n",
    "\n",
    "lista_aux_2 = []\n",
    "for i in range(len(lista_activity_3)):\n",
    "    if lista_activity_3[i] == 'Others' and df['Activity'].isnull()[i] == False:\n",
    "        lista_aux_2.append(df['Activity'][i])\n",
    "    else:\n",
    "        lista_aux_2.append('Ignore')\n",
    "\n",
    "lista_aux_2 = [e.capitalize() for e in lista_aux_2]\n",
    "\n",
    "lista_aux_3 = []\n",
    "for e in set(lista_aux_2):\n",
    "    lista_aux_3.append((e, lista_aux_2.count(e)))\n",
    "lista_aux_3.sort(key=lambda tup: tup[1], reverse=True)\n"
   ]
  },
  {
   "cell_type": "code",
   "execution_count": 75,
   "metadata": {},
   "outputs": [
    {
     "name": "stdout",
     "output_type": "stream",
     "text": [
      "[('Ignore', 5223), ('Fell overboard', 21), ('Sea disaster', 14)]\n"
     ]
    }
   ],
   "source": [
    "addingactivities = [e[0] for e in lista_aux_3 if e[1]> 10]\n",
    "print([e for e in lista_aux_3 if e[1]> 10])"
   ]
  },
  {
   "cell_type": "code",
   "execution_count": 76,
   "metadata": {},
   "outputs": [],
   "source": [
    "for i in range(len(df['Activity'])):\n",
    "    if df['Activity'][i] == 'Fell overboard':\n",
    "        lista_activity_3[i] = 'Sailing'\n",
    "    if df['Activity'][i] == 'Sea disaster':\n",
    "        lista_activity_3[i] = 'Sinking'"
   ]
  },
  {
   "cell_type": "code",
   "execution_count": 77,
   "metadata": {},
   "outputs": [
    {
     "name": "stdout",
     "output_type": "stream",
     "text": [
      "{'Others', 'WaterSkiing', 'Freediving', 'Paddling', 'Swimming', 'Diving', 'Sailing', 'Fishing', 'Spearfishing', 'Windsurfing', 'Sinking', 'Surfing', 'ShoreActivities'}\n"
     ]
    }
   ],
   "source": [
    "print(set(lista_activity_3))"
   ]
  },
  {
   "cell_type": "code",
   "execution_count": 79,
   "metadata": {},
   "outputs": [
    {
     "data": {
      "text/plain": [
       "Swimming           1309\n",
       "Others             1267\n",
       "Surfing            1013\n",
       "Fishing             710\n",
       "Diving              509\n",
       "Spearfishing        395\n",
       "ShoreActivities     360\n",
       "WaterSkiing         161\n",
       "Freediving          107\n",
       "Paddling             85\n",
       "Sailing              34\n",
       "Sinking              22\n",
       "Windsurfing          20\n",
       "Name: Activities, dtype: int64"
      ]
     },
     "execution_count": 79,
     "metadata": {},
     "output_type": "execute_result"
    }
   ],
   "source": [
    "df['Activities'] = lista_activity_3\n",
    "df['Activities'].value_counts()"
   ]
  },
  {
   "cell_type": "code",
   "execution_count": 94,
   "metadata": {},
   "outputs": [
    {
     "data": {
      "image/png": "[encoded data removed]",
      "text/plain": [
       "<Figure size 432x288 with 1 Axes>"
      ]
     },
     "metadata": {},
     "output_type": "display_data"
    }
   ],
   "source": [
    "explode = [0.1 for i in range(len(df['Activities'].value_counts().index.tolist()))]\n",
    "plt.pie([e for e in df['Activities'].value_counts()], explode = explode, labels= df['Activities'].value_counts().index.tolist())\n",
    "plt.axis('equal')\n",
    "plt.show()"
   ]
  },
  {
   "cell_type": "code",
   "execution_count": 97,
   "metadata": {},
   "outputs": [
    {
     "data": {
      "text/plain": [
       "{'.', 'F', 'M', 'M ', 'N', 'lli', nan}"
      ]
     },
     "execution_count": 97,
     "metadata": {},
     "output_type": "execute_result"
    }
   ],
   "source": [
    "# Sex column:\n",
    "\n",
    "set(df['Sex'])"
   ]
  },
  {
   "cell_type": "code",
   "execution_count": 98,
   "metadata": {},
   "outputs": [
    {
     "data": {
      "text/plain": [
       "{'F', 'M', 'nan'}"
      ]
     },
     "execution_count": 98,
     "metadata": {},
     "output_type": "execute_result"
    }
   ],
   "source": [
    "df['Sex'] = [re.sub('M\\s', 'M', str(e)) for e in df['Sex']]\n",
    "df['Sex'] = [re.sub('N|\\.|lli', 'nan', str(e)) for e in df['Sex']]\n",
    "set(df['Sex'])"
   ]
  },
  {
   "cell_type": "code",
   "execution_count": 99,
   "metadata": {},
   "outputs": [
    {
     "data": {
      "text/plain": [
       "{'F', 'M', nan}"
      ]
     },
     "execution_count": 99,
     "metadata": {},
     "output_type": "execute_result"
    }
   ],
   "source": [
    "df['Sex'].replace({'nan': np.nan}, inplace=True)\n",
    "set(df['Sex'])"
   ]
  },
  {
   "cell_type": "code",
   "execution_count": 100,
   "metadata": {},
   "outputs": [
    {
     "data": {
      "text/plain": [
       "M    4837\n",
       "F     585\n",
       "Name: Sex, dtype: int64"
      ]
     },
     "execution_count": 100,
     "metadata": {},
     "output_type": "execute_result"
    }
   ],
   "source": [
    "df['Sex'].value_counts()"
   ]
  },
  {
   "cell_type": "code",
   "execution_count": 101,
   "metadata": {},
   "outputs": [
    {
     "data": {
      "image/png": "[encoded data removed]",
      "text/plain": [
       "<Figure size 432x288 with 1 Axes>"
      ]
     },
     "metadata": {},
     "output_type": "display_data"
    }
   ],
   "source": [
    "explode = [0.1 for i in range(len(df['Sex'].value_counts().index.tolist()))]\n",
    "plt.pie([e for e in df['Sex'].value_counts()], explode = explode, labels= df['Sex'].value_counts().index.tolist())\n",
    "plt.axis('equal')\n",
    "plt.show()"
   ]
  },
  {
   "cell_type": "code",
   "execution_count": 160,
   "metadata": {},
   "outputs": [
    {
     "name": "stdout",
     "output_type": "stream",
     "text": [
      "{'Sea Disaster', 'Unprovoked', 'Provoked', 'Invalid', 'Boat', 'Boating'}\n"
     ]
    },
    {
     "data": {
      "text/plain": [
       "Unprovoked      4386\n",
       "Provoked         557\n",
       "Invalid          519\n",
       "Sea Disaster     220\n",
       "Boat             200\n",
       "Boating          110\n",
       "Name: Type, dtype: int64"
      ]
     },
     "execution_count": 160,
     "metadata": {},
     "output_type": "execute_result"
    }
   ],
   "source": [
    "# Type column:\n",
    "print(set(df3['Type']))\n",
    "df3['Type'].value_counts()"
   ]
  },
  {
   "cell_type": "code",
   "execution_count": 163,
   "metadata": {},
   "outputs": [
    {
     "data": {
      "text/plain": [
       "USA                               2116\n",
       "AUSTRALIA                         1279\n",
       "SOUTH AFRICA                       565\n",
       "PAPUA NEW GUINEA                   133\n",
       "NEW ZEALAND                        125\n",
       "BRAZIL                             102\n",
       "BAHAMAS                             98\n",
       "MEXICO                              81\n",
       "ITALY                               71\n",
       "FIJI                                62\n",
       "PHILIPPINES                         59\n",
       "REUNION                             57\n",
       "NEW CALEDONIA                       51\n",
       "MOZAMBIQUE                          44\n",
       "CUBA                                42\n",
       "SPAIN                               40\n",
       "INDIA                               37\n",
       "EGYPT                               36\n",
       "CROATIA                             34\n",
       "JAPAN                               32\n",
       "PANAMA                              32\n",
       "SOLOMON ISLANDS                     29\n",
       "IRAN                                29\n",
       "GREECE                              25\n",
       "HONG KONG                           24\n",
       "JAMAICA                             23\n",
       "FRENCH POLYNESIA                    22\n",
       "INDONESIA                           20\n",
       "ENGLAND                             19\n",
       "PACIFIC OCEAN                       17\n",
       "                                  ... \n",
       "PALESTINIAN TERRITORIES              1\n",
       "GUYANA                               1\n",
       "KOREA                                1\n",
       " PHILIPPINES                         1\n",
       "BRITISH WEST INDIES                  1\n",
       "SYRIA                                1\n",
       "EGYPT / ISRAEL                       1\n",
       "MEDITERRANEAN SEA?                   1\n",
       "MALDIVE ISLANDS                      1\n",
       "THE BALKANS                          1\n",
       "MEXICO                               1\n",
       "GRAND CAYMAN                         1\n",
       "GUATEMALA                            1\n",
       "DJIBOUTI                             1\n",
       "RED SEA / INDIAN OCEAN               1\n",
       "NETHERLANDS ANTILLES                 1\n",
       "ANGOLA                               1\n",
       "Sierra Leone                         1\n",
       "FEDERATED STATES OF MICRONESIA       1\n",
       "IRELAND                              1\n",
       "MAYOTTE                              1\n",
       "TUVALU                               1\n",
       "BAY OF BENGAL                        1\n",
       "NORTHERN MARIANA ISLANDS             1\n",
       "NORTH SEA                            1\n",
       "SOUTH CHINA SEA                      1\n",
       "EQUATORIAL GUINEA / CAMEROON         1\n",
       "INDIAN OCEAN?                        1\n",
       "ARUBA                                1\n",
       "ANDAMAN / NICOBAR ISLANDAS           1\n",
       "Name: Country, Length: 203, dtype: int64"
      ]
     },
     "execution_count": 163,
     "metadata": {},
     "output_type": "execute_result"
    }
   ],
   "source": [
    "# Country column:\n",
    "\n",
    "# Quitar espacios\n",
    "# set(df3['Country'])\n",
    "df3['Country'].value_counts()\n"
   ]
  },
  {
   "cell_type": "code",
   "execution_count": null,
   "metadata": {},
   "outputs": [],
   "source": [
    "# Reiniciar el Kernel si modificamos una función, porque habrá que volver a importarla!\n",
    "\n",
    "# Ordenar por alguna columna\n",
    "#df[\"Year\"].value_counts().sort_values()\n",
    "#df[\"Year\"].value_counts().sort_index()\n",
    "\n",
    "# Uniones:\n",
    "# df.loc[df['Transmission'].str.startswith('A'), 'TransType'] = 'Automatic'\n",
    "# df.loc[df['Transmission'].str.startswith('M'), 'TransType'] = 'Manual'\n",
    "\n",
    "# La columna nombre es irrelevante de cara al análisis, pero, en coasiones, contiene información sobre el sexo de la\n",
    "# persona atacada\n",
    "# df[df['Name'] == 'male']\n",
    "# df[df['Name'] == 'female']"
   ]
  }
 ],
 "metadata": {
  "kernelspec": {
   "display_name": "Python 3",
   "language": "python",
   "name": "python3"
  },
  "language_info": {
   "codemirror_mode": {
    "name": "ipython",
    "version": 3
   },
   "file_extension": ".py",
   "mimetype": "text/x-python",
   "name": "python",
   "nbconvert_exporter": "python",
   "pygments_lexer": "ipython3",
   "version": "3.7.3"
  }
 },
 "nbformat": 4,
 "nbformat_minor": 2
}
