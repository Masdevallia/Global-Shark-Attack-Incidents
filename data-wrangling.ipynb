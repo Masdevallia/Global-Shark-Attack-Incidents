{
 "cells": [
  {
   "cell_type": "markdown",
   "metadata": {},
   "source": [
    "# Pandas project: Global Shark Attack Incidents:"
   ]
  },
  {
   "cell_type": "markdown",
   "metadata": {},
   "source": [
    "## 🦈 Main goal and hypotheses:\n",
    "\n",
    "As a biologist, my goal with this project is to demonstrate that sharks are adorable creatures and that humans seek to be eaten by them for some strange reasons.\n",
    "\n",
    "My hypotheses:\n",
    "* Most attacks are not **fatal** because, you know, sharks are cute.\n",
    "* Humans get into the sea in any **month** of the year.\n",
    "* With each passing **year** (and **century**), more people go swimming in the sea.\n",
    "* Humans do some weird stuff (**activities**) to make it easier for sharks to locate them.\n",
    "* Are you a woman (female **sex**)? [Good news: you're probably not going to get bitten by a shark](https://www.smh.com.au/environment/conservation/fact-sharks-pretty-much-only-bite-men-heres-why-20151029-gklnxo.html).\n",
    "* Most attacks are of **type** provoked. If plots say otherwise, they lie.\n",
    "* [It is ok to feed sharks with tender meat](https://www.elmundotoday.com/2010/04/un-colegio-de-miami-lleva-a-sus-alumnos-conflictivos-a-ver-de-cerca-a-los-tiburones/) (young **age** people).\n",
    "* USA will be the most affected **country**, [because it is the cradle of jazz](https://www.theguardian.com/music/2018/may/10/sharks-love-jazz-macquarie-university-sydney).\n"
   ]
  },
  {
   "cell_type": "markdown",
   "metadata": {},
   "source": [
    "## 🦈 Importing packages:"
   ]
  },
  {
   "cell_type": "code",
   "execution_count": 1,
   "metadata": {},
   "outputs": [],
   "source": [
    "# First, I import the packages I need:\n",
    "import pandas as pd\n",
    "import numpy as np\n",
    "import re\n",
    "import matplotlib.pyplot as plt\n",
    "from src.functions import Case_Number"
   ]
  },
  {
   "cell_type": "markdown",
   "metadata": {},
   "source": [
    "## 🦈 Importing data:"
   ]
  },
  {
   "cell_type": "code",
   "execution_count": 2,
   "metadata": {},
   "outputs": [
    {
     "data": {
      "text/html": [
       "<div>\n",
       "<style scoped>\n",
       "    .dataframe tbody tr th:only-of-type {\n",
       "        vertical-align: middle;\n",
       "    }\n",
       "\n",
       "    .dataframe tbody tr th {\n",
       "        vertical-align: top;\n",
       "    }\n",
       "\n",
       "    .dataframe thead th {\n",
       "        text-align: right;\n",
       "    }\n",
       "</style>\n",
       "<table border=\"1\" class=\"dataframe\">\n",
       "  <thead>\n",
       "    <tr style=\"text-align: right;\">\n",
       "      <th></th>\n",
       "      <th>Case Number</th>\n",
       "      <th>Date</th>\n",
       "      <th>Year</th>\n",
       "      <th>Type</th>\n",
       "      <th>Country</th>\n",
       "      <th>Area</th>\n",
       "      <th>Location</th>\n",
       "      <th>Activity</th>\n",
       "      <th>Name</th>\n",
       "      <th>Sex</th>\n",
       "      <th>...</th>\n",
       "      <th>Species</th>\n",
       "      <th>Investigator or Source</th>\n",
       "      <th>pdf</th>\n",
       "      <th>href formula</th>\n",
       "      <th>href</th>\n",
       "      <th>Case Number.1</th>\n",
       "      <th>Case Number.2</th>\n",
       "      <th>original order</th>\n",
       "      <th>Unnamed: 22</th>\n",
       "      <th>Unnamed: 23</th>\n",
       "    </tr>\n",
       "  </thead>\n",
       "  <tbody>\n",
       "    <tr>\n",
       "      <th>0</th>\n",
       "      <td>2016.09.18.c</td>\n",
       "      <td>18-Sep-16</td>\n",
       "      <td>2016</td>\n",
       "      <td>Unprovoked</td>\n",
       "      <td>USA</td>\n",
       "      <td>Florida</td>\n",
       "      <td>New Smyrna Beach, Volusia County</td>\n",
       "      <td>Surfing</td>\n",
       "      <td>male</td>\n",
       "      <td>M</td>\n",
       "      <td>...</td>\n",
       "      <td>NaN</td>\n",
       "      <td>Orlando Sentinel, 9/19/2016</td>\n",
       "      <td>2016.09.18.c-NSB.pdf</td>\n",
       "      <td>http://sharkattackfile.net/spreadsheets/pdf_di...</td>\n",
       "      <td>http://sharkattackfile.net/spreadsheets/pdf_di...</td>\n",
       "      <td>2016.09.18.c</td>\n",
       "      <td>2016.09.18.c</td>\n",
       "      <td>5993</td>\n",
       "      <td>NaN</td>\n",
       "      <td>NaN</td>\n",
       "    </tr>\n",
       "    <tr>\n",
       "      <th>1</th>\n",
       "      <td>2016.09.18.b</td>\n",
       "      <td>18-Sep-16</td>\n",
       "      <td>2016</td>\n",
       "      <td>Unprovoked</td>\n",
       "      <td>USA</td>\n",
       "      <td>Florida</td>\n",
       "      <td>New Smyrna Beach, Volusia County</td>\n",
       "      <td>Surfing</td>\n",
       "      <td>Chucky Luciano</td>\n",
       "      <td>M</td>\n",
       "      <td>...</td>\n",
       "      <td>NaN</td>\n",
       "      <td>Orlando Sentinel, 9/19/2016</td>\n",
       "      <td>2016.09.18.b-Luciano.pdf</td>\n",
       "      <td>http://sharkattackfile.net/spreadsheets/pdf_di...</td>\n",
       "      <td>http://sharkattackfile.net/spreadsheets/pdf_di...</td>\n",
       "      <td>2016.09.18.b</td>\n",
       "      <td>2016.09.18.b</td>\n",
       "      <td>5992</td>\n",
       "      <td>NaN</td>\n",
       "      <td>NaN</td>\n",
       "    </tr>\n",
       "    <tr>\n",
       "      <th>2</th>\n",
       "      <td>2016.09.18.a</td>\n",
       "      <td>18-Sep-16</td>\n",
       "      <td>2016</td>\n",
       "      <td>Unprovoked</td>\n",
       "      <td>USA</td>\n",
       "      <td>Florida</td>\n",
       "      <td>New Smyrna Beach, Volusia County</td>\n",
       "      <td>Surfing</td>\n",
       "      <td>male</td>\n",
       "      <td>M</td>\n",
       "      <td>...</td>\n",
       "      <td>NaN</td>\n",
       "      <td>Orlando Sentinel, 9/19/2016</td>\n",
       "      <td>2016.09.18.a-NSB.pdf</td>\n",
       "      <td>http://sharkattackfile.net/spreadsheets/pdf_di...</td>\n",
       "      <td>http://sharkattackfile.net/spreadsheets/pdf_di...</td>\n",
       "      <td>2016.09.18.a</td>\n",
       "      <td>2016.09.18.a</td>\n",
       "      <td>5991</td>\n",
       "      <td>NaN</td>\n",
       "      <td>NaN</td>\n",
       "    </tr>\n",
       "  </tbody>\n",
       "</table>\n",
       "<p>3 rows × 24 columns</p>\n",
       "</div>"
      ],
      "text/plain": [
       "    Case Number       Date  Year        Type Country     Area  \\\n",
       "0  2016.09.18.c  18-Sep-16  2016  Unprovoked     USA  Florida   \n",
       "1  2016.09.18.b  18-Sep-16  2016  Unprovoked     USA  Florida   \n",
       "2  2016.09.18.a  18-Sep-16  2016  Unprovoked     USA  Florida   \n",
       "\n",
       "                           Location Activity            Name Sex   ...  \\\n",
       "0  New Smyrna Beach, Volusia County  Surfing            male    M  ...   \n",
       "1  New Smyrna Beach, Volusia County  Surfing  Chucky Luciano    M  ...   \n",
       "2  New Smyrna Beach, Volusia County  Surfing            male    M  ...   \n",
       "\n",
       "  Species        Investigator or Source                       pdf  \\\n",
       "0      NaN  Orlando Sentinel, 9/19/2016      2016.09.18.c-NSB.pdf   \n",
       "1      NaN  Orlando Sentinel, 9/19/2016  2016.09.18.b-Luciano.pdf   \n",
       "2      NaN  Orlando Sentinel, 9/19/2016      2016.09.18.a-NSB.pdf   \n",
       "\n",
       "                                        href formula  \\\n",
       "0  http://sharkattackfile.net/spreadsheets/pdf_di...   \n",
       "1  http://sharkattackfile.net/spreadsheets/pdf_di...   \n",
       "2  http://sharkattackfile.net/spreadsheets/pdf_di...   \n",
       "\n",
       "                                                href Case Number.1  \\\n",
       "0  http://sharkattackfile.net/spreadsheets/pdf_di...  2016.09.18.c   \n",
       "1  http://sharkattackfile.net/spreadsheets/pdf_di...  2016.09.18.b   \n",
       "2  http://sharkattackfile.net/spreadsheets/pdf_di...  2016.09.18.a   \n",
       "\n",
       "  Case Number.2 original order Unnamed: 22 Unnamed: 23  \n",
       "0  2016.09.18.c           5993         NaN         NaN  \n",
       "1  2016.09.18.b           5992         NaN         NaN  \n",
       "2  2016.09.18.a           5991         NaN         NaN  \n",
       "\n",
       "[3 rows x 24 columns]"
      ]
     },
     "metadata": {},
     "output_type": "display_data"
    }
   ],
   "source": [
    "# Then, I import the dataframe using Pandas with the correct encoding and I take a first look at the data:\n",
    "df = pd.read_csv('./Input/GSAF5.csv', encoding = 'ISO-8859-1')\n",
    "display(df.head(3))"
   ]
  },
  {
   "cell_type": "markdown",
   "metadata": {},
   "source": [
    "## 🦈 A First Look at the Data:"
   ]
  },
  {
   "cell_type": "code",
   "execution_count": 3,
   "metadata": {},
   "outputs": [
    {
     "name": "stdout",
     "output_type": "stream",
     "text": [
      "['Case Number', 'Date', 'Year', 'Type', 'Country', 'Area', 'Location', 'Activity', 'Name', 'Sex ', 'Age', 'Injury', 'Fatal (Y/N)', 'Time', 'Species ', 'Investigator or Source', 'pdf', 'href formula', 'href', 'Case Number.1', 'Case Number.2', 'original order', 'Unnamed: 22', 'Unnamed: 23']\n"
     ]
    }
   ],
   "source": [
    "# Variables I can play with:\n",
    "print([e for e in df.columns])"
   ]
  },
  {
   "cell_type": "code",
   "execution_count": 4,
   "metadata": {},
   "outputs": [
    {
     "data": {
      "text/html": [
       "<div>\n",
       "<style scoped>\n",
       "    .dataframe tbody tr th:only-of-type {\n",
       "        vertical-align: middle;\n",
       "    }\n",
       "\n",
       "    .dataframe tbody tr th {\n",
       "        vertical-align: top;\n",
       "    }\n",
       "\n",
       "    .dataframe thead th {\n",
       "        text-align: right;\n",
       "    }\n",
       "</style>\n",
       "<table border=\"1\" class=\"dataframe\">\n",
       "  <thead>\n",
       "    <tr style=\"text-align: right;\">\n",
       "      <th></th>\n",
       "      <th>Case Number</th>\n",
       "      <th>Date</th>\n",
       "      <th>Year</th>\n",
       "      <th>Type</th>\n",
       "      <th>Country</th>\n",
       "      <th>Activity</th>\n",
       "      <th>Name</th>\n",
       "      <th>Sex</th>\n",
       "      <th>Age</th>\n",
       "      <th>Fatal (Y/N)</th>\n",
       "      <th>Case Number.1</th>\n",
       "      <th>Case Number.2</th>\n",
       "      <th>Unnamed: 22</th>\n",
       "      <th>Unnamed: 23</th>\n",
       "    </tr>\n",
       "  </thead>\n",
       "  <tbody>\n",
       "    <tr>\n",
       "      <th>0</th>\n",
       "      <td>2016.09.18.c</td>\n",
       "      <td>18-Sep-16</td>\n",
       "      <td>2016</td>\n",
       "      <td>Unprovoked</td>\n",
       "      <td>USA</td>\n",
       "      <td>Surfing</td>\n",
       "      <td>male</td>\n",
       "      <td>M</td>\n",
       "      <td>16</td>\n",
       "      <td>N</td>\n",
       "      <td>2016.09.18.c</td>\n",
       "      <td>2016.09.18.c</td>\n",
       "      <td>NaN</td>\n",
       "      <td>NaN</td>\n",
       "    </tr>\n",
       "    <tr>\n",
       "      <th>1</th>\n",
       "      <td>2016.09.18.b</td>\n",
       "      <td>18-Sep-16</td>\n",
       "      <td>2016</td>\n",
       "      <td>Unprovoked</td>\n",
       "      <td>USA</td>\n",
       "      <td>Surfing</td>\n",
       "      <td>Chucky Luciano</td>\n",
       "      <td>M</td>\n",
       "      <td>36</td>\n",
       "      <td>N</td>\n",
       "      <td>2016.09.18.b</td>\n",
       "      <td>2016.09.18.b</td>\n",
       "      <td>NaN</td>\n",
       "      <td>NaN</td>\n",
       "    </tr>\n",
       "    <tr>\n",
       "      <th>2</th>\n",
       "      <td>2016.09.18.a</td>\n",
       "      <td>18-Sep-16</td>\n",
       "      <td>2016</td>\n",
       "      <td>Unprovoked</td>\n",
       "      <td>USA</td>\n",
       "      <td>Surfing</td>\n",
       "      <td>male</td>\n",
       "      <td>M</td>\n",
       "      <td>43</td>\n",
       "      <td>N</td>\n",
       "      <td>2016.09.18.a</td>\n",
       "      <td>2016.09.18.a</td>\n",
       "      <td>NaN</td>\n",
       "      <td>NaN</td>\n",
       "    </tr>\n",
       "  </tbody>\n",
       "</table>\n",
       "</div>"
      ],
      "text/plain": [
       "    Case Number       Date  Year        Type Country Activity            Name  \\\n",
       "0  2016.09.18.c  18-Sep-16  2016  Unprovoked     USA  Surfing            male   \n",
       "1  2016.09.18.b  18-Sep-16  2016  Unprovoked     USA  Surfing  Chucky Luciano   \n",
       "2  2016.09.18.a  18-Sep-16  2016  Unprovoked     USA  Surfing            male   \n",
       "\n",
       "  Sex  Age Fatal (Y/N) Case Number.1 Case Number.2 Unnamed: 22 Unnamed: 23  \n",
       "0    M  16           N  2016.09.18.c  2016.09.18.c         NaN         NaN  \n",
       "1    M  36           N  2016.09.18.b  2016.09.18.b         NaN         NaN  \n",
       "2    M  43           N  2016.09.18.a  2016.09.18.a         NaN         NaN  "
      ]
     },
     "metadata": {},
     "output_type": "display_data"
    }
   ],
   "source": [
    "# I delete columns that I will not need in my analysis:\n",
    "df = df.drop(['Area','Location','Injury','Time','Investigator or Source','pdf','href formula','href', 'original order','Species '], axis=1)\n",
    "display(df.head(3))"
   ]
  },
  {
   "cell_type": "code",
   "execution_count": 5,
   "metadata": {},
   "outputs": [
    {
     "name": "stdout",
     "output_type": "stream",
     "text": [
      "Case Number: 2016.09.15 2016.07.14.4 2016.01.24.b 2015.12.23 2015.10.28.a 2015.07-10 1967.07.05 1962,08.30.b 1961.09.02.R 1952.08.05 1934.01.08.R 1900.00.00.R 1911.07.31.R\n",
      "Case Number.1: 2016.09.16 2016.07.14.R 2015.01.24.b 2015.11.07 2015.10.28 2015.07.10 1967/07.05 1962.08.30.b 1961.09,06.R 1952.08.04 1934.02.08.R 1919.00.00.R 1911.07.31.T\n",
      "\n",
      "Case Number: 2015.07-10 1934.01.08.R\n",
      "Case Number.2: 2015.07.10 1934.02.08.R\n"
     ]
    }
   ],
   "source": [
    "# Why are there three different Case Numbers? Are they really different?\n",
    "\n",
    "# Comparing Case Number and Case Number.1:\n",
    "comparing = []\n",
    "for i in range(len(df['Case Number'])):\n",
    "    if df['Case Number'][i] == df['Case Number.1'][i]:\n",
    "        comparing.append(True)\n",
    "    else:\n",
    "        comparing.append(False)\n",
    "\n",
    "# Different values:\n",
    "falsevalues = [i for i, x in enumerate(comparing) if not x]\n",
    "print('Case Number:',*[df['Case Number'][e] for e in falsevalues])\n",
    "print('Case Number.1:',*[df['Case Number.1'][e] for e in falsevalues])\n",
    "\n",
    "# Comparing Case Number and Case Number.2:\n",
    "comparing_2 = []\n",
    "for i in range(len(df['Case Number'])):\n",
    "    if df['Case Number'][i] == df['Case Number.2'][i]:\n",
    "        comparing_2.append(True)\n",
    "    else:\n",
    "        comparing_2.append(False)\n",
    "\n",
    "# Different values:\n",
    "falsevalues2 = [i for i, x in enumerate(comparing_2) if not x]\n",
    "print('\\nCase Number:',*[df['Case Number'][e] for e in falsevalues2])\n",
    "print('Case Number.2:',*[df['Case Number.2'][e] for e in falsevalues2])\n"
   ]
  },
  {
   "cell_type": "code",
   "execution_count": 6,
   "metadata": {},
   "outputs": [
    {
     "data": {
      "text/html": [
       "<div>\n",
       "<style scoped>\n",
       "    .dataframe tbody tr th:only-of-type {\n",
       "        vertical-align: middle;\n",
       "    }\n",
       "\n",
       "    .dataframe tbody tr th {\n",
       "        vertical-align: top;\n",
       "    }\n",
       "\n",
       "    .dataframe thead th {\n",
       "        text-align: right;\n",
       "    }\n",
       "</style>\n",
       "<table border=\"1\" class=\"dataframe\">\n",
       "  <thead>\n",
       "    <tr style=\"text-align: right;\">\n",
       "      <th></th>\n",
       "      <th>Case Number</th>\n",
       "      <th>Date</th>\n",
       "      <th>Year</th>\n",
       "      <th>Type</th>\n",
       "      <th>Country</th>\n",
       "      <th>Activity</th>\n",
       "      <th>Name</th>\n",
       "      <th>Sex</th>\n",
       "      <th>Age</th>\n",
       "      <th>Fatal (Y/N)</th>\n",
       "      <th>Unnamed: 22</th>\n",
       "      <th>Unnamed: 23</th>\n",
       "    </tr>\n",
       "  </thead>\n",
       "  <tbody>\n",
       "    <tr>\n",
       "      <th>0</th>\n",
       "      <td>2016.09.18.c</td>\n",
       "      <td>18-Sep-16</td>\n",
       "      <td>2016</td>\n",
       "      <td>Unprovoked</td>\n",
       "      <td>USA</td>\n",
       "      <td>Surfing</td>\n",
       "      <td>male</td>\n",
       "      <td>M</td>\n",
       "      <td>16</td>\n",
       "      <td>N</td>\n",
       "      <td>NaN</td>\n",
       "      <td>NaN</td>\n",
       "    </tr>\n",
       "    <tr>\n",
       "      <th>1</th>\n",
       "      <td>2016.09.18.b</td>\n",
       "      <td>18-Sep-16</td>\n",
       "      <td>2016</td>\n",
       "      <td>Unprovoked</td>\n",
       "      <td>USA</td>\n",
       "      <td>Surfing</td>\n",
       "      <td>Chucky Luciano</td>\n",
       "      <td>M</td>\n",
       "      <td>36</td>\n",
       "      <td>N</td>\n",
       "      <td>NaN</td>\n",
       "      <td>NaN</td>\n",
       "    </tr>\n",
       "    <tr>\n",
       "      <th>2</th>\n",
       "      <td>2016.09.18.a</td>\n",
       "      <td>18-Sep-16</td>\n",
       "      <td>2016</td>\n",
       "      <td>Unprovoked</td>\n",
       "      <td>USA</td>\n",
       "      <td>Surfing</td>\n",
       "      <td>male</td>\n",
       "      <td>M</td>\n",
       "      <td>43</td>\n",
       "      <td>N</td>\n",
       "      <td>NaN</td>\n",
       "      <td>NaN</td>\n",
       "    </tr>\n",
       "  </tbody>\n",
       "</table>\n",
       "</div>"
      ],
      "text/plain": [
       "    Case Number       Date  Year        Type Country Activity            Name  \\\n",
       "0  2016.09.18.c  18-Sep-16  2016  Unprovoked     USA  Surfing            male   \n",
       "1  2016.09.18.b  18-Sep-16  2016  Unprovoked     USA  Surfing  Chucky Luciano   \n",
       "2  2016.09.18.a  18-Sep-16  2016  Unprovoked     USA  Surfing            male   \n",
       "\n",
       "  Sex  Age Fatal (Y/N) Unnamed: 22 Unnamed: 23  \n",
       "0    M  16           N         NaN         NaN  \n",
       "1    M  36           N         NaN         NaN  \n",
       "2    M  43           N         NaN         NaN  "
      ]
     },
     "metadata": {},
     "output_type": "display_data"
    }
   ],
   "source": [
    "# Values that differ seem to be typographical errors. I can delete Case Number.1 and Case Number.2.\n",
    "df = df.drop(['Case Number.1','Case Number.2'], axis=1)\n",
    "display(df.head(3))"
   ]
  },
  {
   "cell_type": "code",
   "execution_count": 7,
   "metadata": {},
   "outputs": [
    {
     "name": "stdout",
     "output_type": "stream",
     "text": [
      "Case Number: 5976 unique values out of 5992\n"
     ]
    }
   ],
   "source": [
    "# In fact, 'Case Number' would not be valid as a 'primary key' since it contains repeated values:\n",
    "print('Case Number:',len(set(df['Case Number'])),'unique values out of',len(df['Case Number']))"
   ]
  },
  {
   "cell_type": "code",
   "execution_count": 8,
   "metadata": {},
   "outputs": [
    {
     "name": "stdout",
     "output_type": "stream",
     "text": [
      "5992\n",
      "5976\n"
     ]
    }
   ],
   "source": [
    "# Is this because my dataset has duplicate rows?\n",
    "print(len(df.drop_duplicates()))\n",
    "print(len(df['Case Number'].drop_duplicates()))\n",
    "\n",
    "# It seems that there are no duplicate rows in the dataframe, it is only the 'Case Number' column that contains\n",
    "# duplicate values."
   ]
  },
  {
   "cell_type": "code",
   "execution_count": 9,
   "metadata": {},
   "outputs": [
    {
     "data": {
      "text/html": [
       "<div>\n",
       "<style scoped>\n",
       "    .dataframe tbody tr th:only-of-type {\n",
       "        vertical-align: middle;\n",
       "    }\n",
       "\n",
       "    .dataframe tbody tr th {\n",
       "        vertical-align: top;\n",
       "    }\n",
       "\n",
       "    .dataframe thead th {\n",
       "        text-align: right;\n",
       "    }\n",
       "</style>\n",
       "<table border=\"1\" class=\"dataframe\">\n",
       "  <thead>\n",
       "    <tr style=\"text-align: right;\">\n",
       "      <th></th>\n",
       "      <th>Date</th>\n",
       "      <th>Year</th>\n",
       "      <th>Type</th>\n",
       "      <th>Country</th>\n",
       "      <th>Activity</th>\n",
       "      <th>Name</th>\n",
       "      <th>Sex</th>\n",
       "      <th>Age</th>\n",
       "      <th>Fatal (Y/N)</th>\n",
       "      <th>Unnamed: 22</th>\n",
       "      <th>Unnamed: 23</th>\n",
       "    </tr>\n",
       "  </thead>\n",
       "  <tbody>\n",
       "    <tr>\n",
       "      <th>0</th>\n",
       "      <td>18-Sep-16</td>\n",
       "      <td>2016</td>\n",
       "      <td>Unprovoked</td>\n",
       "      <td>USA</td>\n",
       "      <td>Surfing</td>\n",
       "      <td>male</td>\n",
       "      <td>M</td>\n",
       "      <td>16</td>\n",
       "      <td>N</td>\n",
       "      <td>NaN</td>\n",
       "      <td>NaN</td>\n",
       "    </tr>\n",
       "    <tr>\n",
       "      <th>1</th>\n",
       "      <td>18-Sep-16</td>\n",
       "      <td>2016</td>\n",
       "      <td>Unprovoked</td>\n",
       "      <td>USA</td>\n",
       "      <td>Surfing</td>\n",
       "      <td>Chucky Luciano</td>\n",
       "      <td>M</td>\n",
       "      <td>36</td>\n",
       "      <td>N</td>\n",
       "      <td>NaN</td>\n",
       "      <td>NaN</td>\n",
       "    </tr>\n",
       "    <tr>\n",
       "      <th>2</th>\n",
       "      <td>18-Sep-16</td>\n",
       "      <td>2016</td>\n",
       "      <td>Unprovoked</td>\n",
       "      <td>USA</td>\n",
       "      <td>Surfing</td>\n",
       "      <td>male</td>\n",
       "      <td>M</td>\n",
       "      <td>43</td>\n",
       "      <td>N</td>\n",
       "      <td>NaN</td>\n",
       "      <td>NaN</td>\n",
       "    </tr>\n",
       "  </tbody>\n",
       "</table>\n",
       "</div>"
      ],
      "text/plain": [
       "        Date  Year        Type Country Activity            Name Sex  Age  \\\n",
       "0  18-Sep-16  2016  Unprovoked     USA  Surfing            male    M  16   \n",
       "1  18-Sep-16  2016  Unprovoked     USA  Surfing  Chucky Luciano    M  36   \n",
       "2  18-Sep-16  2016  Unprovoked     USA  Surfing            male    M  43   \n",
       "\n",
       "  Fatal (Y/N) Unnamed: 22 Unnamed: 23  \n",
       "0           N         NaN         NaN  \n",
       "1           N         NaN         NaN  \n",
       "2           N         NaN         NaN  "
      ]
     },
     "metadata": {},
     "output_type": "display_data"
    }
   ],
   "source": [
    "# Consequently, I delete this column too, and I will create a correct Case Number later:\n",
    "df = df.drop(['Case Number'], axis=1)\n",
    "display(df.head(3))"
   ]
  },
  {
   "cell_type": "code",
   "execution_count": 10,
   "metadata": {},
   "outputs": [
    {
     "name": "stdout",
     "output_type": "stream",
     "text": [
      "Country          43\n",
      "Activity        527\n",
      "Name            200\n",
      "Sex             567\n",
      "Age            2681\n",
      "Fatal (Y/N)      19\n",
      "Unnamed: 22    5991\n",
      "Unnamed: 23    5990\n",
      "dtype: int64\n",
      "Total rows in the datataset: 5992\n"
     ]
    }
   ],
   "source": [
    "# Evaluating missing values:\n",
    "null_cols = df.isnull().sum()\n",
    "print(null_cols[null_cols > 0])\n",
    "print('Total rows in the datataset:',df.shape[0])\n",
    "# Some columns have relatively few null values while others have thousands of nulls."
   ]
  },
  {
   "cell_type": "code",
   "execution_count": 11,
   "metadata": {},
   "outputs": [],
   "source": [
    "# What's going on with 'Unnamed: 22' and 'Unnamed: 23'?\n",
    "\n",
    "# Most of their values are null and we don't have any information about their content.\n",
    "# I can drop them:\n",
    "drop_cols = list(null_cols[null_cols > 5000].index)\n",
    "df = df.drop(drop_cols, axis=1)"
   ]
  },
  {
   "cell_type": "code",
   "execution_count": 12,
   "metadata": {},
   "outputs": [
    {
     "name": "stdout",
     "output_type": "stream",
     "text": [
      "['Date', 'Year', 'Type', 'Country', 'Activity', 'Name', 'Sex ', 'Age', 'Fatal (Y/N)']\n"
     ]
    }
   ],
   "source": [
    "# Variables I can play with at this point:\n",
    "print([e for e in df.columns])"
   ]
  },
  {
   "cell_type": "code",
   "execution_count": 13,
   "metadata": {},
   "outputs": [
    {
     "name": "stdout",
     "output_type": "stream",
     "text": [
      "['Date', 'Year', 'Type', 'Country', 'Activity', 'Name', 'Sex', 'Age', 'Fatal']\n"
     ]
    }
   ],
   "source": [
    "# Renaming some columns:\n",
    "df = df.rename(columns={'Fatal (Y/N)': 'Fatal'})\n",
    "df = df.rename(columns={'Sex ': 'Sex'})\n",
    "print([e for e in df.columns])"
   ]
  },
  {
   "cell_type": "code",
   "execution_count": 14,
   "metadata": {},
   "outputs": [
    {
     "name": "stdout",
     "output_type": "stream",
     "text": [
      "Date        object\n",
      "Year         int64\n",
      "Type        object\n",
      "Country     object\n",
      "Activity    object\n",
      "Name        object\n",
      "Sex         object\n",
      "Age         object\n",
      "Fatal       object\n",
      "dtype: object\n"
     ]
    }
   ],
   "source": [
    "# Are data types correct?\n",
    "print(df.dtypes)"
   ]
  },
  {
   "cell_type": "markdown",
   "metadata": {},
   "source": [
    "Keep in mind that if a column contains null values, it cannot take any type:\n",
    "https://pandas.pydata.org/pandas-docs/stable/user_guide/gotchas.html\n",
    "\n",
    "**NA type promotions:**\n",
    "When introducing NAs into an existing Series or DataFrame via reindex() or some other means, boolean and integer types\n",
    "will be promoted to a different dtype in order to store the NAs. The promotions are summarized in this table:\n",
    "\n",
    "Typeclass | Promotion dtype for storing NAs\n",
    "--------- | -------------------------------\n",
    "floating | no change\n",
    "object | no change\n",
    "integer | cast to float64\n",
    "boolean | cast to object"
   ]
  },
  {
   "cell_type": "code",
   "execution_count": 15,
   "metadata": {},
   "outputs": [
    {
     "data": {
      "text/plain": [
       "{' N', '#VALUE!', 'F', 'N', 'N ', 'UNKNOWN', 'Y', 'n', nan}"
      ]
     },
     "execution_count": 15,
     "metadata": {},
     "output_type": "execute_result"
    }
   ],
   "source": [
    "# Examples:\n",
    "\n",
    "# 'Age' must be an integer but it have to be cleaned first.\n",
    "# However, since it contains NaN values, I will be converted it into a float.\n",
    "set(df['Age'])\n",
    "\n",
    "# Fatal (once cleaned) could be a boolean but it contains NaN values, so it has to be an object.\n",
    "set(df['Fatal'])"
   ]
  },
  {
   "cell_type": "markdown",
   "metadata": {},
   "source": [
    "## 🦈 Let's clean up the dataframe!"
   ]
  },
  {
   "cell_type": "markdown",
   "metadata": {},
   "source": [
    "### Fatal:"
   ]
  },
  {
   "cell_type": "code",
   "execution_count": 16,
   "metadata": {},
   "outputs": [
    {
     "name": "stdout",
     "output_type": "stream",
     "text": [
      "{'Y', 'NaN', 'N'}\n"
     ]
    }
   ],
   "source": [
    "# Fatal column:\n",
    "df['Fatal'] = [re.sub('N\\s|\\sN', 'N', str(e)) for e in df['Fatal']]\n",
    "df['Fatal'] = [re.sub('F', 'Y', str(e)) for e in df['Fatal']]\n",
    "df['Fatal'] = [re.sub('UNKNOWN|#VALUE!', str(np.nan), str(e)) for e in df['Fatal']]\n",
    "df['Fatal'] = [re.sub('n', 'N', str(e)) for e in df['Fatal']]\n",
    "print(set(df['Fatal']))"
   ]
  },
  {
   "cell_type": "code",
   "execution_count": 17,
   "metadata": {},
   "outputs": [
    {
     "name": "stdout",
     "output_type": "stream",
     "text": [
      "{nan, 'Y', 'N'}\n",
      "object\n"
     ]
    }
   ],
   "source": [
    "df['Fatal'].replace({'NaN': np.nan}, inplace=True)\n",
    "print(set(df.Fatal))\n",
    "print(df.Fatal.dtypes)"
   ]
  },
  {
   "cell_type": "code",
   "execution_count": 18,
   "metadata": {},
   "outputs": [
    {
     "name": "stdout",
     "output_type": "stream",
     "text": [
      "N    4325\n",
      "Y    1553\n",
      "Name: Fatal, dtype: int64\n"
     ]
    },
    {
     "data": {
      "image/png": "[encoded data removed]",
      "text/plain": [
       "<Figure size 432x432 with 1 Axes>"
      ]
     },
     "metadata": {},
     "output_type": "display_data"
    }
   ],
   "source": [
    "print(df['Fatal'].value_counts())\n",
    "explode = [0.1 for i in range(len(df['Fatal'].value_counts().index.tolist()))]\n",
    "\n",
    "fig = plt.gcf()\n",
    "fig.set_size_inches(6,6)\n",
    "plt.pie([e for e in df['Fatal'].value_counts()], explode = explode, labels=df['Fatal'].value_counts().index.tolist(), autopct='%1.1f%%', shadow=True, startangle=140)\n",
    "plt.axis('equal')\n",
    "plt.show()"
   ]
  },
  {
   "cell_type": "markdown",
   "metadata": {},
   "source": [
    "### Date"
   ]
  },
  {
   "cell_type": "code",
   "execution_count": 19,
   "metadata": {},
   "outputs": [
    {
     "name": "stdout",
     "output_type": "stream",
     "text": [
      "{'Dec', nan, 'Feb', 'Mar', 'Aug', 'Jul', 'Nov', 'Oct', 'Sep', 'Jun', 'Jan', 'Apr', 'May'}\n"
     ]
    },
    {
     "data": {
      "text/html": [
       "<div>\n",
       "<style scoped>\n",
       "    .dataframe tbody tr th:only-of-type {\n",
       "        vertical-align: middle;\n",
       "    }\n",
       "\n",
       "    .dataframe tbody tr th {\n",
       "        vertical-align: top;\n",
       "    }\n",
       "\n",
       "    .dataframe thead th {\n",
       "        text-align: right;\n",
       "    }\n",
       "</style>\n",
       "<table border=\"1\" class=\"dataframe\">\n",
       "  <thead>\n",
       "    <tr style=\"text-align: right;\">\n",
       "      <th></th>\n",
       "      <th>Date</th>\n",
       "      <th>Year</th>\n",
       "      <th>Type</th>\n",
       "      <th>Country</th>\n",
       "      <th>Activity</th>\n",
       "      <th>Name</th>\n",
       "      <th>Sex</th>\n",
       "      <th>Age</th>\n",
       "      <th>Fatal</th>\n",
       "      <th>Month</th>\n",
       "    </tr>\n",
       "  </thead>\n",
       "  <tbody>\n",
       "    <tr>\n",
       "      <th>0</th>\n",
       "      <td>18-Sep-16</td>\n",
       "      <td>2016</td>\n",
       "      <td>Unprovoked</td>\n",
       "      <td>USA</td>\n",
       "      <td>Surfing</td>\n",
       "      <td>male</td>\n",
       "      <td>M</td>\n",
       "      <td>16</td>\n",
       "      <td>N</td>\n",
       "      <td>Sep</td>\n",
       "    </tr>\n",
       "    <tr>\n",
       "      <th>1</th>\n",
       "      <td>18-Sep-16</td>\n",
       "      <td>2016</td>\n",
       "      <td>Unprovoked</td>\n",
       "      <td>USA</td>\n",
       "      <td>Surfing</td>\n",
       "      <td>Chucky Luciano</td>\n",
       "      <td>M</td>\n",
       "      <td>36</td>\n",
       "      <td>N</td>\n",
       "      <td>Sep</td>\n",
       "    </tr>\n",
       "    <tr>\n",
       "      <th>2</th>\n",
       "      <td>18-Sep-16</td>\n",
       "      <td>2016</td>\n",
       "      <td>Unprovoked</td>\n",
       "      <td>USA</td>\n",
       "      <td>Surfing</td>\n",
       "      <td>male</td>\n",
       "      <td>M</td>\n",
       "      <td>43</td>\n",
       "      <td>N</td>\n",
       "      <td>Sep</td>\n",
       "    </tr>\n",
       "  </tbody>\n",
       "</table>\n",
       "</div>"
      ],
      "text/plain": [
       "        Date  Year        Type Country Activity            Name Sex Age Fatal  \\\n",
       "0  18-Sep-16  2016  Unprovoked     USA  Surfing            male   M  16     N   \n",
       "1  18-Sep-16  2016  Unprovoked     USA  Surfing  Chucky Luciano   M  36     N   \n",
       "2  18-Sep-16  2016  Unprovoked     USA  Surfing            male   M  43     N   \n",
       "\n",
       "  Month  \n",
       "0   Sep  \n",
       "1   Sep  \n",
       "2   Sep  "
      ]
     },
     "metadata": {},
     "output_type": "display_data"
    }
   ],
   "source": [
    "# Date column:\n",
    "\n",
    "# I'm going to extract 'month' information:\n",
    "# Months are stored before a dash.\n",
    "lista_date = [re.findall(\"(?i)[a-z]+-\", str(e)) for e in df['Date']]\n",
    "\n",
    "lista_date_2 = []\n",
    "for e in lista_date:\n",
    "    if len(e)>0:\n",
    "        lista_date_2.append(e[0][:-1])\n",
    "    else:\n",
    "        lista_date_2.append('NaN')\n",
    "\n",
    "lista_date_2 = [re.sub('Sept', 'Sep', str(e)) for e in lista_date_2]\n",
    "lista_date_2 = [re.sub('March', 'Mar', str(e)) for e in lista_date_2]\n",
    "lista_date_2 = [re.sub('Ap$', 'Apr', str(e)) for e in lista_date_2]\n",
    "lista_date_2 = [re.sub('(?i)mid|Summer|Spanish|Jut', 'NaN', str(e)) for e in lista_date_2]\n",
    "\n",
    "df['Month'] = lista_date_2\n",
    "df['Month'].replace({'NaN': np.nan}, inplace=True)\n",
    "print(set(df.Month))\n",
    "display(df.head(3))"
   ]
  },
  {
   "cell_type": "code",
   "execution_count": 20,
   "metadata": {},
   "outputs": [
    {
     "name": "stdout",
     "output_type": "stream",
     "text": [
      "Jul    635\n",
      "Aug    579\n",
      "Sep    523\n",
      "Jan    500\n",
      "Jun    473\n",
      "Dec    417\n",
      "Oct    411\n",
      "Apr    407\n",
      "Mar    401\n",
      "Nov    397\n",
      "May    369\n",
      "Feb    360\n",
      "Name: Month, dtype: int64\n"
     ]
    },
    {
     "data": {
      "image/png": "[encoded data removed]",
      "text/plain": [
       "<Figure size 432x432 with 1 Axes>"
      ]
     },
     "metadata": {},
     "output_type": "display_data"
    }
   ],
   "source": [
    "print(df['Month'].value_counts())\n",
    "explode = [0.1 for i in range(len(df['Month'].value_counts().index.tolist()))]\n",
    "\n",
    "fig = plt.gcf()\n",
    "fig.set_size_inches(6,6)\n",
    "plt.pie([e for e in df['Month'].value_counts()], explode = explode, labels=df['Month'].value_counts().index.tolist(), autopct='%1.1f%%', shadow=True, startangle=140)\n",
    "plt.axis('equal')\n",
    "plt.show()"
   ]
  },
  {
   "cell_type": "code",
   "execution_count": 21,
   "metadata": {},
   "outputs": [
    {
     "data": {
      "text/plain": [
       "<matplotlib.axes._subplots.AxesSubplot at 0x26fef7dc5f8>"
      ]
     },
     "execution_count": 21,
     "metadata": {},
     "output_type": "execute_result"
    },
    {
     "data": {
      "image/png": "[encoded data removed]",
      "text/plain": [
       "<Figure size 432x288 with 1 Axes>"
      ]
     },
     "metadata": {
      "needs_background": "light"
     },
     "output_type": "display_data"
    }
   ],
   "source": [
    "df['Month'].value_counts().plot(kind='bar')"
   ]
  },
  {
   "cell_type": "markdown",
   "metadata": {},
   "source": [
    "### Year"
   ]
  },
  {
   "cell_type": "code",
   "execution_count": 22,
   "metadata": {},
   "outputs": [
    {
     "name": "stdout",
     "output_type": "stream",
     "text": [
      "124 rows equal 0 before the completion\n",
      "33 rows equal 0 after the completion\n"
     ]
    }
   ],
   "source": [
    "# Year column:\n",
    "\n",
    "# Completing 'Year' variable with 'Date' variable ('Date' contains some years that are not collected in 'Year' column):\n",
    "\n",
    "lista_year = [re.findall(\"[0-9]{4}\", str(e)) for e in df['Date']]\n",
    "\n",
    "lista_year_2 = []\n",
    "for e in lista_year:\n",
    "    if len(e)==1:\n",
    "        lista_year_2.append(int(e[0]))\n",
    "    else:\n",
    "        lista_year_2.append(None)\n",
    "\n",
    "print(list(df['Year']).count(0), \"rows equal 0 before the completion\")\n",
    "\n",
    "for i in range(len(lista_year_2)):\n",
    "    if lista_year_2[i] != None:\n",
    "        if df['Year'][i] == 0:\n",
    "            # df['Year'][i] = lista_year_2[i] # SettingWithCopyWarning: A value is trying to be set on a copy\n",
    "            # of a slice from a DataFrame\n",
    "            df.at[i,'Year'] = lista_year_2[i]\n",
    "\n",
    "print(list(df['Year']).count(0), \"rows equal 0 after the completion\")\n"
   ]
  },
  {
   "cell_type": "code",
   "execution_count": 23,
   "metadata": {},
   "outputs": [
    {
     "name": "stdout",
     "output_type": "stream",
     "text": [
      "float64\n"
     ]
    }
   ],
   "source": [
    "# Values below 1000 in the Year variable do not seem very reliable. I convert them to NaN values:\n",
    "\n",
    "setyear = set(df['Year'][df['Year']<1000])\n",
    "for e in setyear:\n",
    "    df['Year'].replace({e: np.nan}, inplace=True)\n",
    "\n",
    "# Because NaN is a float, this forces an array of integers with any missing values to become floating point.\n",
    "# https://pandas.pydata.org/pandas-docs/stable/user_guide/gotchas.html\n",
    "# If you need to represent integers with possibly missing values, you can use one of the nullable-integer extension dtypes\n",
    "# provided by pandas.\n",
    "\n",
    "# However, I'm going to keep the float type because this is not going to pose any problem in my analysis.\n",
    "# (there is no need to converti it to int).\n",
    "\n",
    "print(df.Year.dtypes)"
   ]
  },
  {
   "cell_type": "code",
   "execution_count": 24,
   "metadata": {},
   "outputs": [],
   "source": [
    "# df[\"Year\"].value_counts().sort_index()\n",
    "year_values = [int(e) for e in df[\"Year\"].value_counts().sort_index()]\n",
    "year_labels = df[\"Year\"].value_counts().sort_index().index.tolist()\n",
    "year_labels_2 = [int(e) for e in year_labels]\n",
    "# print(year_values)\n",
    "# print(year_labels_2)"
   ]
  },
  {
   "cell_type": "code",
   "execution_count": 25,
   "metadata": {},
   "outputs": [
    {
     "data": {
      "text/plain": [
       "<matplotlib.collections.PathCollection at 0x26fefb8a940>"
      ]
     },
     "execution_count": 25,
     "metadata": {},
     "output_type": "execute_result"
    },
    {
     "data": {
      "image/png": "[encoded data removed]",
      "text/plain": [
       "<Figure size 1080x1080 with 1 Axes>"
      ]
     },
     "metadata": {
      "needs_background": "light"
     },
     "output_type": "display_data"
    }
   ],
   "source": [
    "fig = plt.gcf()\n",
    "fig.set_size_inches(15,15)\n",
    "plt.scatter(year_labels_2, year_values)"
   ]
  },
  {
   "cell_type": "code",
   "execution_count": 26,
   "metadata": {},
   "outputs": [
    {
     "data": {
      "text/html": [
       "<div>\n",
       "<style scoped>\n",
       "    .dataframe tbody tr th:only-of-type {\n",
       "        vertical-align: middle;\n",
       "    }\n",
       "\n",
       "    .dataframe tbody tr th {\n",
       "        vertical-align: top;\n",
       "    }\n",
       "\n",
       "    .dataframe thead th {\n",
       "        text-align: right;\n",
       "    }\n",
       "</style>\n",
       "<table border=\"1\" class=\"dataframe\">\n",
       "  <thead>\n",
       "    <tr style=\"text-align: right;\">\n",
       "      <th></th>\n",
       "      <th>Year</th>\n",
       "      <th>Type</th>\n",
       "      <th>Country</th>\n",
       "      <th>Activity</th>\n",
       "      <th>Name</th>\n",
       "      <th>Sex</th>\n",
       "      <th>Age</th>\n",
       "      <th>Fatal</th>\n",
       "      <th>Month</th>\n",
       "    </tr>\n",
       "  </thead>\n",
       "  <tbody>\n",
       "    <tr>\n",
       "      <th>0</th>\n",
       "      <td>2016.0</td>\n",
       "      <td>Unprovoked</td>\n",
       "      <td>USA</td>\n",
       "      <td>Surfing</td>\n",
       "      <td>male</td>\n",
       "      <td>M</td>\n",
       "      <td>16</td>\n",
       "      <td>N</td>\n",
       "      <td>Sep</td>\n",
       "    </tr>\n",
       "    <tr>\n",
       "      <th>1</th>\n",
       "      <td>2016.0</td>\n",
       "      <td>Unprovoked</td>\n",
       "      <td>USA</td>\n",
       "      <td>Surfing</td>\n",
       "      <td>Chucky Luciano</td>\n",
       "      <td>M</td>\n",
       "      <td>36</td>\n",
       "      <td>N</td>\n",
       "      <td>Sep</td>\n",
       "    </tr>\n",
       "    <tr>\n",
       "      <th>2</th>\n",
       "      <td>2016.0</td>\n",
       "      <td>Unprovoked</td>\n",
       "      <td>USA</td>\n",
       "      <td>Surfing</td>\n",
       "      <td>male</td>\n",
       "      <td>M</td>\n",
       "      <td>43</td>\n",
       "      <td>N</td>\n",
       "      <td>Sep</td>\n",
       "    </tr>\n",
       "  </tbody>\n",
       "</table>\n",
       "</div>"
      ],
      "text/plain": [
       "     Year        Type Country Activity            Name Sex Age Fatal Month\n",
       "0  2016.0  Unprovoked     USA  Surfing            male   M  16     N   Sep\n",
       "1  2016.0  Unprovoked     USA  Surfing  Chucky Luciano   M  36     N   Sep\n",
       "2  2016.0  Unprovoked     USA  Surfing            male   M  43     N   Sep"
      ]
     },
     "metadata": {},
     "output_type": "display_data"
    }
   ],
   "source": [
    "# I won't need 'Date' column anymore:\n",
    "df = df.drop(['Date'], axis=1)\n",
    "display(df.head(3))"
   ]
  },
  {
   "cell_type": "markdown",
   "metadata": {},
   "source": [
    "### Century"
   ]
  },
  {
   "cell_type": "code",
   "execution_count": 27,
   "metadata": {},
   "outputs": [
    {
     "data": {
      "text/html": [
       "<div>\n",
       "<style scoped>\n",
       "    .dataframe tbody tr th:only-of-type {\n",
       "        vertical-align: middle;\n",
       "    }\n",
       "\n",
       "    .dataframe tbody tr th {\n",
       "        vertical-align: top;\n",
       "    }\n",
       "\n",
       "    .dataframe thead th {\n",
       "        text-align: right;\n",
       "    }\n",
       "</style>\n",
       "<table border=\"1\" class=\"dataframe\">\n",
       "  <thead>\n",
       "    <tr style=\"text-align: right;\">\n",
       "      <th></th>\n",
       "      <th>Year</th>\n",
       "      <th>Type</th>\n",
       "      <th>Country</th>\n",
       "      <th>Activity</th>\n",
       "      <th>Name</th>\n",
       "      <th>Sex</th>\n",
       "      <th>Age</th>\n",
       "      <th>Fatal</th>\n",
       "      <th>Month</th>\n",
       "      <th>Century</th>\n",
       "    </tr>\n",
       "  </thead>\n",
       "  <tbody>\n",
       "    <tr>\n",
       "      <th>0</th>\n",
       "      <td>2016.0</td>\n",
       "      <td>Unprovoked</td>\n",
       "      <td>USA</td>\n",
       "      <td>Surfing</td>\n",
       "      <td>male</td>\n",
       "      <td>M</td>\n",
       "      <td>16</td>\n",
       "      <td>N</td>\n",
       "      <td>Sep</td>\n",
       "      <td>XXI</td>\n",
       "    </tr>\n",
       "    <tr>\n",
       "      <th>1</th>\n",
       "      <td>2016.0</td>\n",
       "      <td>Unprovoked</td>\n",
       "      <td>USA</td>\n",
       "      <td>Surfing</td>\n",
       "      <td>Chucky Luciano</td>\n",
       "      <td>M</td>\n",
       "      <td>36</td>\n",
       "      <td>N</td>\n",
       "      <td>Sep</td>\n",
       "      <td>XXI</td>\n",
       "    </tr>\n",
       "    <tr>\n",
       "      <th>2</th>\n",
       "      <td>2016.0</td>\n",
       "      <td>Unprovoked</td>\n",
       "      <td>USA</td>\n",
       "      <td>Surfing</td>\n",
       "      <td>male</td>\n",
       "      <td>M</td>\n",
       "      <td>43</td>\n",
       "      <td>N</td>\n",
       "      <td>Sep</td>\n",
       "      <td>XXI</td>\n",
       "    </tr>\n",
       "  </tbody>\n",
       "</table>\n",
       "</div>"
      ],
      "text/plain": [
       "     Year        Type Country Activity            Name Sex Age Fatal Month  \\\n",
       "0  2016.0  Unprovoked     USA  Surfing            male   M  16     N   Sep   \n",
       "1  2016.0  Unprovoked     USA  Surfing  Chucky Luciano   M  36     N   Sep   \n",
       "2  2016.0  Unprovoked     USA  Surfing            male   M  43     N   Sep   \n",
       "\n",
       "  Century  \n",
       "0     XXI  \n",
       "1     XXI  \n",
       "2     XXI  "
      ]
     },
     "metadata": {},
     "output_type": "display_data"
    }
   ],
   "source": [
    "# Binning 'Year' to create a new variable: 'Century':\n",
    "\n",
    "# print(df['Year'].min()) # 1543.0\n",
    "# print(df['Year'].max()) # 2016.0\n",
    "\n",
    "year_labels = ['XVI','XVII','XVIII','XIX','XX','XXI']\n",
    "cutoffs = [1499,1599,1699,1799,1899,1999,2099]\n",
    "century = pd.cut(df['Year'], cutoffs, labels=year_labels)\n",
    "\n",
    "df['Century'] = century\n",
    "display(df.head(3))"
   ]
  },
  {
   "cell_type": "code",
   "execution_count": 28,
   "metadata": {},
   "outputs": [
    {
     "name": "stdout",
     "output_type": "stream",
     "text": [
      "XX       3545\n",
      "XXI      1868\n",
      "XIX       511\n",
      "XVIII      22\n",
      "XVII        5\n",
      "XVI         5\n",
      "Name: Century, dtype: int64\n"
     ]
    },
    {
     "data": {
      "image/png": "[encoded data removed]",
      "text/plain": [
       "<Figure size 432x432 with 1 Axes>"
      ]
     },
     "metadata": {},
     "output_type": "display_data"
    }
   ],
   "source": [
    "print(df['Century'].value_counts())\n",
    "century_value_counts = [e for e in df['Century'].value_counts()]\n",
    "century_value_counts_grouped = [century_value_counts[0],century_value_counts[1],century_value_counts[2],century_value_counts[3]+century_value_counts[4]+century_value_counts[5]]\n",
    "explode = [0.1 for i in range(len(century_value_counts_grouped))]\n",
    "\n",
    "fig = plt.gcf()\n",
    "fig.set_size_inches(6,6)\n",
    "plt.pie(century_value_counts_grouped, explode=explode, labels=['XX','XXI','XIX','XVI-XVIII'], autopct='%1.1f%%', shadow=True, startangle=140)\n",
    "plt.axis('equal')\n",
    "plt.show()"
   ]
  },
  {
   "cell_type": "code",
   "execution_count": 29,
   "metadata": {},
   "outputs": [
    {
     "data": {
      "text/plain": [
       "<matplotlib.axes._subplots.AxesSubplot at 0x26fef5d6198>"
      ]
     },
     "execution_count": 29,
     "metadata": {},
     "output_type": "execute_result"
    },
    {
     "data": {
      "image/png": "[encoded data removed]",
      "text/plain": [
       "<Figure size 432x288 with 1 Axes>"
      ]
     },
     "metadata": {
      "needs_background": "light"
     },
     "output_type": "display_data"
    }
   ],
   "source": [
    "df['Century'].value_counts().plot(kind='bar')"
   ]
  },
  {
   "cell_type": "markdown",
   "metadata": {},
   "source": [
    "### Activity"
   ]
  },
  {
   "cell_type": "code",
   "execution_count": 30,
   "metadata": {},
   "outputs": [],
   "source": [
    "# Activity column:\n",
    "\n",
    "# Looking for -ing verbs:\n",
    "lista_activity = [re.findall('(?i)[a-z]+ing', str(e)) for e in df['Activity']] \n",
    "\n",
    "lista_activity_2 = []\n",
    "for e in lista_activity:\n",
    "    if len(e)>0:\n",
    "        lista_activity_2.append(e[0])\n",
    "    else:\n",
    "        lista_activity_2.append('Others')\n",
    "\n",
    "# lista_activity_2 = [e.capitalize() if e != None else None for e in lista_activity_2]\n",
    "lista_activity_2 = [e.capitalize() for e in lista_activity_2]"
   ]
  },
  {
   "cell_type": "code",
   "execution_count": 31,
   "metadata": {},
   "outputs": [
    {
     "name": "stdout",
     "output_type": "stream",
     "text": [
      "{'Washing', 'Measuring', 'Crabbing', 'Sing', 'Defecating', 'Taking', 'Cleaning', 'Stamding', 'Feeding', 'Killing', 'Clamming', 'Netting', 'Hunting', 'Paddleskiing', 'Flying', 'Footing', 'Oystering', 'Travelling', 'Restraining', 'Photographing', 'Harassing', 'Murdering', 'Yachting', 'Standing', 'Gigging', 'Pearling', 'Dropping', 'Crossing', 'Splashing', 'Sailing', 'Tagging', 'Removing', 'Waiting', 'Others', 'Chasing', 'Involving', 'Reading', 'Awaiting', 'Paddling', 'Feeling', 'Watching', 'Dynamiting', 'Loading', 'Attaching', 'Rowing', 'Wrangling', 'Lobstering', 'Boarding', 'Filming', 'Boeing', 'Clinging', 'Longling', 'Swimming', 'Bringing', 'Dismantling', 'Lashing', 'Walking', 'Bodysurfing', 'Finning', 'Wakeboarding', 'Thrashing', 'Guarding', 'Drowning', 'Wearing', 'Floating', 'Chumming', 'Pulling', 'Fleeing', 'Leaving', 'Spearing', 'Kayaking', 'Jumping', 'Canoeing', 'Abandoning', 'Resting', 'Setting', 'Pursuing', 'Surfing', 'Cutting', 'Hanging', 'Shelling', 'Morning', 'Landing', 'Sculling', 'Angling', 'Coming', 'Racing', 'Harpooning', 'Traveling', 'Holding', 'Bodyboarding', 'Throwing', 'Fishing', 'Windsurfing', 'Dragging', 'Skindiving', 'Working', 'Fighting', 'Seining', 'Bending', 'Riding', 'Hoisting', 'Deserting', 'Trying', 'Reviving', 'Carrying', 'Being', 'Gathering', 'Cruising', 'Sunbathing', 'Launching', 'Crouching', 'Testing', 'Inspecting', 'Expecting', 'Dangling', 'Boating', 'Conducting', 'Shooting', 'Skiing', 'Kitesurfing', 'Teasing', 'Competing', 'Investigating', 'During', 'Stuffing', 'Sleeping', 'Sitting', 'Returning', 'Diving', 'Snorkeling', 'Ding', 'Painting', 'Hiking', 'Hauling', 'Drawing', 'Climbing', 'Spearfishing', 'Thing', 'Kneeling', 'Rescuing', 'Checking', 'Towing', 'Examining', 'Lifesaving', 'Sittting', 'Searching', 'Paddleboarding', 'Crawling', 'Moving', 'Scooping', 'Trailing', 'Petting', 'Collecting', 'Preparing', 'Picking', 'Hooking', 'Ascending', 'Scurfing', 'Lining', 'Retrieving', 'Touching', 'Lying', 'Missing', 'Ditching', 'Foundering', 'Attempting', 'Bathing', 'Escaping', 'Burning', 'Wading', 'Shrimping', 'Sailboarding', 'Casting', 'Meshing', 'Gaffing', 'Helping', 'Freediving', 'Seeing', 'Observing', 'Exercising', 'Playing', 'Salvaging', 'Treading', 'Kiteboarding', 'Sinking', 'Catching', 'Crayfishing'}\n"
     ]
    }
   ],
   "source": [
    "print(set(lista_activity_2))"
   ]
  },
  {
   "cell_type": "code",
   "execution_count": 32,
   "metadata": {},
   "outputs": [
    {
     "name": "stdout",
     "output_type": "stream",
     "text": [
      "[('Swimming', 1047), ('Surfing', 1013), ('Others', 894), ('Fishing', 687), ('Diving', 509), ('Spearfishing', 395), ('Bathing', 177), ('Wading', 162), ('Standing', 128), ('Boarding', 127), ('Snorkeling', 82), ('Floating', 46), ('Treading', 39), ('Kayaking', 35), ('Skiing', 34), ('Attempting', 30), ('Playing', 25), ('Walking', 24), ('Rowing', 21), ('Sitting', 21), ('Windsurfing', 20), ('Paddling', 16), ('Freediving', 14), ('Sinking', 14), ('Sailing', 13), ('Canoeing', 13), ('Collecting', 12), ('Washing', 11), ('Netting', 11), ('Skindiving', 11)]\n"
     ]
    }
   ],
   "source": [
    "# I'm going to add to the \"Others\" category those activities with an occurrence < 10:\n",
    "lista_aux = []\n",
    "for e in set(lista_activity_2):\n",
    "    lista_aux.append((e, lista_activity_2.count(e)))\n",
    "lista_aux.sort(key=lambda tup: tup[1], reverse=True)\n",
    "\n",
    "print([e for e in lista_aux if e[1]> 10])\n",
    "activities = [e[0] for e in lista_aux if e[1]> 10]"
   ]
  },
  {
   "cell_type": "code",
   "execution_count": 33,
   "metadata": {},
   "outputs": [
    {
     "name": "stdout",
     "output_type": "stream",
     "text": [
      "{'Floating', 'Washing', 'Kayaking', 'Canoeing', 'Netting', 'Surfing', 'Collecting', 'Standing', 'Skiing', 'Sailing', 'Sitting', 'Others', 'Diving', 'Snorkeling', 'Paddling', 'Attempting', 'Fishing', 'Windsurfing', 'Bathing', 'Skindiving', 'Rowing', 'Wading', 'Boarding', 'Swimming', 'Spearfishing', 'Walking', 'Freediving', 'Playing', 'Treading', 'Sinking'}\n"
     ]
    }
   ],
   "source": [
    "lista_activity_3 = ['Others' if e not in activities else e for e in lista_activity_2]\n",
    "print(set(lista_activity_3))"
   ]
  },
  {
   "cell_type": "code",
   "execution_count": 34,
   "metadata": {},
   "outputs": [],
   "source": [
    "# Grouping activities by categories:\n",
    "lista_activity_3 = [re.sub('Boarding|Skiing', 'WaterSkiing', str(e)) for e in lista_activity_3]\n",
    "lista_activity_3 = [re.sub('Canoeing|Rowing|Kayaking', 'Paddling', str(e)) for e in lista_activity_3]\n",
    "lista_activity_3 = [re.sub('Bathing|Floating|Treading', 'Swimming', str(e)) for e in lista_activity_3]\n",
    "lista_activity_3 = [re.sub('Snorkeling|Skindiving', 'Freediving', str(e)) for e in lista_activity_3]\n",
    "lista_activity_3 = [re.sub('Wading|Walking|Playing|Sitting|Standing','ShoreActivities', str(e)) for e in lista_activity_3]\n",
    "lista_activity_3 = [re.sub('Netting|Collecting','Fishing', str(e)) for e in lista_activity_3]\n",
    "lista_activity_3 = [re.sub('Attempting|Washing','Others', str(e)) for e in lista_activity_3]"
   ]
  },
  {
   "cell_type": "code",
   "execution_count": 35,
   "metadata": {},
   "outputs": [
    {
     "name": "stdout",
     "output_type": "stream",
     "text": [
      "{'Surfing', 'Others', 'WaterSkiing', 'Spearfishing', 'Diving', 'Freediving', 'Paddling', 'ShoreActivities', 'Fishing', 'Windsurfing', 'Sinking', 'Sailing', 'Swimming'}\n"
     ]
    }
   ],
   "source": [
    "print(set(lista_activity_3))"
   ]
  },
  {
   "cell_type": "code",
   "execution_count": 36,
   "metadata": {},
   "outputs": [],
   "source": [
    "# Looking for other important activities to add (no -ing verbs):\n",
    "\n",
    "lista_aux_2 = []\n",
    "for i in range(len(lista_activity_3)):\n",
    "    if lista_activity_3[i] == 'Others' and df['Activity'].isnull()[i] == False:\n",
    "        lista_aux_2.append(df['Activity'][i])\n",
    "    else:\n",
    "        lista_aux_2.append('Ignore')\n",
    "\n",
    "lista_aux_2 = [e.capitalize() for e in lista_aux_2]\n",
    "\n",
    "lista_aux_3 = []\n",
    "for e in set(lista_aux_2):\n",
    "    lista_aux_3.append((e, lista_aux_2.count(e)))\n",
    "lista_aux_3.sort(key=lambda tup: tup[1], reverse=True)\n"
   ]
  },
  {
   "cell_type": "code",
   "execution_count": 37,
   "metadata": {},
   "outputs": [
    {
     "name": "stdout",
     "output_type": "stream",
     "text": [
      "[('Ignore', 5223), ('Fell overboard', 21), ('Sea disaster', 14)]\n"
     ]
    }
   ],
   "source": [
    "addingactivities = [e[0] for e in lista_aux_3 if e[1]> 10]\n",
    "print([e for e in lista_aux_3 if e[1]> 10])"
   ]
  },
  {
   "cell_type": "code",
   "execution_count": 38,
   "metadata": {},
   "outputs": [],
   "source": [
    "for i in range(len(df['Activity'])):\n",
    "    if df['Activity'][i] == 'Fell overboard':\n",
    "        lista_activity_3[i] = 'Sailing'\n",
    "    if df['Activity'][i] == 'Sea disaster':\n",
    "        lista_activity_3[i] = 'Sinking'"
   ]
  },
  {
   "cell_type": "code",
   "execution_count": 39,
   "metadata": {},
   "outputs": [
    {
     "name": "stdout",
     "output_type": "stream",
     "text": [
      "{'Surfing', 'Others', 'WaterSkiing', 'Spearfishing', 'Diving', 'Freediving', 'Paddling', 'ShoreActivities', 'Fishing', 'Windsurfing', 'Sinking', 'Sailing', 'Swimming'}\n"
     ]
    }
   ],
   "source": [
    "print(set(lista_activity_3))"
   ]
  },
  {
   "cell_type": "code",
   "execution_count": 40,
   "metadata": {},
   "outputs": [
    {
     "name": "stdout",
     "output_type": "stream",
     "text": [
      "527\n",
      "{nan, 'Surfing', 'Others', 'WaterSkiing', 'Spearfishing', 'Diving', 'Freediving', 'Paddling', 'ShoreActivities', 'Fishing', 'Windsurfing', 'Sinking', 'Sailing', 'Swimming'}\n"
     ]
    }
   ],
   "source": [
    "print(df['Activity'].isnull().sum())\n",
    "\n",
    "for i in range(len(lista_activity_3)):\n",
    "    if lista_activity_3[i] == 'Others' and df['Activity'].isnull()[i] == True:\n",
    "        lista_activity_3[i] = np.nan\n",
    "\n",
    "print(set(lista_activity_3))"
   ]
  },
  {
   "cell_type": "code",
   "execution_count": 41,
   "metadata": {},
   "outputs": [
    {
     "name": "stdout",
     "output_type": "stream",
     "text": [
      "527\n"
     ]
    },
    {
     "data": {
      "text/plain": [
       "Swimming           1309\n",
       "Surfing            1013\n",
       "Others              740\n",
       "Fishing             710\n",
       "Diving              509\n",
       "Spearfishing        395\n",
       "ShoreActivities     360\n",
       "WaterSkiing         161\n",
       "Freediving          107\n",
       "Paddling             85\n",
       "Sailing              34\n",
       "Sinking              22\n",
       "Windsurfing          20\n",
       "Name: Activities, dtype: int64"
      ]
     },
     "execution_count": 41,
     "metadata": {},
     "output_type": "execute_result"
    }
   ],
   "source": [
    "df['Activities'] = lista_activity_3\n",
    "print(df['Activities'].isnull().sum())\n",
    "df['Activities'].value_counts()"
   ]
  },
  {
   "cell_type": "code",
   "execution_count": 42,
   "metadata": {},
   "outputs": [],
   "source": [
    "explode = [0.1 for i in range(len(df['Activities'].value_counts().index.tolist()))]\n",
    "explode = explode[0:11]\n",
    "activity_values = [e for e in df['Activities'].value_counts()]\n",
    "activity_values_2 = activity_values[0:10]\n",
    "activity_values_2.append(activity_values[10]+activity_values[11]+activity_values[12])\n",
    "activity_labels = df['Activities'].value_counts().index.tolist()\n",
    "activity_labels_2 = activity_labels[0:10]\n",
    "activity_labels_2.append('Sailing + Sinking + Windsurfing')"
   ]
  },
  {
   "cell_type": "code",
   "execution_count": 43,
   "metadata": {},
   "outputs": [
    {
     "data": {
      "image/png": "[encoded data removed]",
      "text/plain": [
       "<Figure size 432x432 with 1 Axes>"
      ]
     },
     "metadata": {},
     "output_type": "display_data"
    }
   ],
   "source": [
    "fig = plt.gcf()\n",
    "fig.set_size_inches(6,6)\n",
    "plt.pie(activity_values_2, explode = explode, labels= activity_labels_2, autopct='%1.0f%%', shadow=True)\n",
    "plt.axis('equal')\n",
    "plt.show()"
   ]
  },
  {
   "cell_type": "code",
   "execution_count": 44,
   "metadata": {},
   "outputs": [
    {
     "data": {
      "text/plain": [
       "<matplotlib.axes._subplots.AxesSubplot at 0x26fefd4cd68>"
      ]
     },
     "execution_count": 44,
     "metadata": {},
     "output_type": "execute_result"
    },
    {
     "data": {
      "image/png": "[encoded data removed]",
      "text/plain": [
       "<Figure size 432x288 with 1 Axes>"
      ]
     },
     "metadata": {
      "needs_background": "light"
     },
     "output_type": "display_data"
    }
   ],
   "source": [
    "df['Activities'].value_counts().plot(kind='bar')"
   ]
  },
  {
   "cell_type": "code",
   "execution_count": 45,
   "metadata": {},
   "outputs": [
    {
     "data": {
      "text/html": [
       "<div>\n",
       "<style scoped>\n",
       "    .dataframe tbody tr th:only-of-type {\n",
       "        vertical-align: middle;\n",
       "    }\n",
       "\n",
       "    .dataframe tbody tr th {\n",
       "        vertical-align: top;\n",
       "    }\n",
       "\n",
       "    .dataframe thead th {\n",
       "        text-align: right;\n",
       "    }\n",
       "</style>\n",
       "<table border=\"1\" class=\"dataframe\">\n",
       "  <thead>\n",
       "    <tr style=\"text-align: right;\">\n",
       "      <th></th>\n",
       "      <th>Year</th>\n",
       "      <th>Type</th>\n",
       "      <th>Country</th>\n",
       "      <th>Name</th>\n",
       "      <th>Sex</th>\n",
       "      <th>Age</th>\n",
       "      <th>Fatal</th>\n",
       "      <th>Month</th>\n",
       "      <th>Century</th>\n",
       "      <th>Activities</th>\n",
       "    </tr>\n",
       "  </thead>\n",
       "  <tbody>\n",
       "    <tr>\n",
       "      <th>0</th>\n",
       "      <td>2016.0</td>\n",
       "      <td>Unprovoked</td>\n",
       "      <td>USA</td>\n",
       "      <td>male</td>\n",
       "      <td>M</td>\n",
       "      <td>16</td>\n",
       "      <td>N</td>\n",
       "      <td>Sep</td>\n",
       "      <td>XXI</td>\n",
       "      <td>Surfing</td>\n",
       "    </tr>\n",
       "    <tr>\n",
       "      <th>1</th>\n",
       "      <td>2016.0</td>\n",
       "      <td>Unprovoked</td>\n",
       "      <td>USA</td>\n",
       "      <td>Chucky Luciano</td>\n",
       "      <td>M</td>\n",
       "      <td>36</td>\n",
       "      <td>N</td>\n",
       "      <td>Sep</td>\n",
       "      <td>XXI</td>\n",
       "      <td>Surfing</td>\n",
       "    </tr>\n",
       "    <tr>\n",
       "      <th>2</th>\n",
       "      <td>2016.0</td>\n",
       "      <td>Unprovoked</td>\n",
       "      <td>USA</td>\n",
       "      <td>male</td>\n",
       "      <td>M</td>\n",
       "      <td>43</td>\n",
       "      <td>N</td>\n",
       "      <td>Sep</td>\n",
       "      <td>XXI</td>\n",
       "      <td>Surfing</td>\n",
       "    </tr>\n",
       "  </tbody>\n",
       "</table>\n",
       "</div>"
      ],
      "text/plain": [
       "     Year        Type Country            Name Sex Age Fatal Month Century  \\\n",
       "0  2016.0  Unprovoked     USA            male   M  16     N   Sep     XXI   \n",
       "1  2016.0  Unprovoked     USA  Chucky Luciano   M  36     N   Sep     XXI   \n",
       "2  2016.0  Unprovoked     USA            male   M  43     N   Sep     XXI   \n",
       "\n",
       "  Activities  \n",
       "0    Surfing  \n",
       "1    Surfing  \n",
       "2    Surfing  "
      ]
     },
     "metadata": {},
     "output_type": "display_data"
    }
   ],
   "source": [
    "# I won't need 'Activity' column anymore:\n",
    "df = df.drop(['Activity'], axis=1)\n",
    "display(df.head(3))"
   ]
  },
  {
   "cell_type": "markdown",
   "metadata": {},
   "source": [
    "### Sex"
   ]
  },
  {
   "cell_type": "code",
   "execution_count": 46,
   "metadata": {},
   "outputs": [
    {
     "name": "stdout",
     "output_type": "stream",
     "text": [
      "{nan, 'N', '.', 'lli', 'F', 'M', 'M '}\n",
      "{'nan', 'F', 'M'}\n",
      "{nan, 'F', 'M'}\n"
     ]
    }
   ],
   "source": [
    "# Sex column:\n",
    "\n",
    "print(set(df['Sex']))\n",
    "df['Sex'] = [re.sub('M\\s', 'M', str(e)) for e in df['Sex']]\n",
    "df['Sex'] = [re.sub('N|\\.|lli', 'nan', str(e)) for e in df['Sex']]\n",
    "print(set(df['Sex']))\n",
    "df['Sex'].replace({'nan': np.nan}, inplace=True)\n",
    "print(set(df['Sex']))\n"
   ]
  },
  {
   "cell_type": "code",
   "execution_count": 47,
   "metadata": {},
   "outputs": [
    {
     "name": "stdout",
     "output_type": "stream",
     "text": [
      "{'Ignore', 'male'}\n",
      "{'Ignore', 'female'}\n"
     ]
    }
   ],
   "source": [
    "# Name column:\n",
    "\n",
    "# The 'Name' column contain some data about the 'Sex' of the victim that are not properly contained in the 'Sex' column.\n",
    "# I'm going to subtract this information to add it to the 'Sex' column:\n",
    "\n",
    "female = [re.findall('(?i)female', str(e)) for e in df['Name']]\n",
    "male = [re.findall('(?i)male', str(e)) for e in df['Name']]\n",
    "\n",
    "lista_male = [e[0] if len(e)>0 else 'Ignore' for e in male]\n",
    "lista_female = [e[0] if len(e)>0 else 'Ignore' for e in female]   \n",
    "lista_male_new = [e if e != 'Male' else 'male' for e in lista_male]\n",
    "print(set(lista_male_new))\n",
    "print(set(lista_female))\n"
   ]
  },
  {
   "cell_type": "code",
   "execution_count": 48,
   "metadata": {},
   "outputs": [
    {
     "name": "stdout",
     "output_type": "stream",
     "text": [
      "570 rows equal Nan before the completion\n",
      "559 rows equal Nan after the completion\n"
     ]
    }
   ],
   "source": [
    "print(df['Sex'].isnull().sum(), \"rows equal Nan before the completion\")\n",
    "\n",
    "for i in range(len(lista_male_new)):\n",
    "    if lista_male_new[i] == 'male' and df['Sex'].isnull()[i] == True:\n",
    "            df.at[i,'Sex'] = 'M'\n",
    "            \n",
    "for i in range(len(lista_female)):\n",
    "    if lista_female[i] == 'female' and df['Sex'].isnull()[i] == True:\n",
    "            df.at[i,'Sex'] = 'F'\n",
    "\n",
    "print(df['Sex'].isnull().sum(), \"rows equal Nan after the completion\")"
   ]
  },
  {
   "cell_type": "code",
   "execution_count": 49,
   "metadata": {},
   "outputs": [
    {
     "data": {
      "text/plain": [
       "M    4848\n",
       "F     585\n",
       "Name: Sex, dtype: int64"
      ]
     },
     "execution_count": 49,
     "metadata": {},
     "output_type": "execute_result"
    }
   ],
   "source": [
    "df['Sex'].value_counts()"
   ]
  },
  {
   "cell_type": "code",
   "execution_count": 50,
   "metadata": {},
   "outputs": [
    {
     "data": {
      "image/png": "[encoded data removed]",
      "text/plain": [
       "<Figure size 432x432 with 1 Axes>"
      ]
     },
     "metadata": {},
     "output_type": "display_data"
    }
   ],
   "source": [
    "explode = [0.1 for i in range(len(df['Sex'].value_counts().index.tolist()))]\n",
    "\n",
    "fig = plt.gcf()\n",
    "fig.set_size_inches(6,6)\n",
    "plt.pie([e for e in df['Sex'].value_counts()], explode = explode, labels= df['Sex'].value_counts().index.tolist(), autopct='%1.1f%%', shadow=True, startangle=140)\n",
    "plt.axis('equal')\n",
    "plt.show()"
   ]
  },
  {
   "cell_type": "code",
   "execution_count": 51,
   "metadata": {},
   "outputs": [],
   "source": [
    "df = df.drop(['Name'], axis=1)"
   ]
  },
  {
   "cell_type": "markdown",
   "metadata": {},
   "source": [
    "### Type"
   ]
  },
  {
   "cell_type": "code",
   "execution_count": 52,
   "metadata": {},
   "outputs": [
    {
     "name": "stdout",
     "output_type": "stream",
     "text": [
      "{'Unprovoked', 'Provoked', 'Boat', 'Sea Disaster', 'Boating', 'Invalid'}\n",
      "{'Unprovoked', nan, 'Provoked'}\n"
     ]
    },
    {
     "data": {
      "text/plain": [
       "Unprovoked    4916\n",
       "Provoked       557\n",
       "Name: Type, dtype: int64"
      ]
     },
     "execution_count": 52,
     "metadata": {},
     "output_type": "execute_result"
    }
   ],
   "source": [
    "# Type column:\n",
    "\n",
    "print(set(df['Type']))\n",
    "\n",
    "df['Type'].replace({'Boating': 'Unprovoked'}, inplace=True)\n",
    "df['Type'].replace({'Boat': 'Unprovoked'}, inplace=True)\n",
    "df['Type'].replace({'Sea Disaster': 'Unprovoked'}, inplace=True)\n",
    "df['Type'].replace({'Invalid': np.nan}, inplace=True)\n",
    "\n",
    "print(set(df['Type']))\n",
    "df['Type'].value_counts()"
   ]
  },
  {
   "cell_type": "code",
   "execution_count": 53,
   "metadata": {},
   "outputs": [
    {
     "data": {
      "image/png": "[encoded data removed]",
      "text/plain": [
       "<Figure size 432x432 with 1 Axes>"
      ]
     },
     "metadata": {},
     "output_type": "display_data"
    }
   ],
   "source": [
    "explode = [0.1 for i in range(len(df['Type'].value_counts().index.tolist()))]\n",
    "\n",
    "fig = plt.gcf()\n",
    "fig.set_size_inches(6,6)\n",
    "plt.pie([e for e in df['Type'].value_counts()], explode = explode, labels= df['Type'].value_counts().index.tolist(), autopct='%1.1f%%', shadow=True, startangle=140)\n",
    "plt.axis('equal')\n",
    "plt.show()"
   ]
  },
  {
   "cell_type": "markdown",
   "metadata": {},
   "source": [
    "### Age"
   ]
  },
  {
   "cell_type": "code",
   "execution_count": 54,
   "metadata": {},
   "outputs": [
    {
     "name": "stdout",
     "output_type": "stream",
     "text": [
      "{nan, 10, 11, 12, 13, 14, 15, 16, 17, 18, 19, 20, 21, 22, 23, 24, 25, 26, 27, 28, 29, 30, 31, 32, 33, 34, 35, 36, 37, 38, 39, 40, 41, 42, 43, 44, 45, 46, 47, 48, 49, 50, 51, 52, 53, 54, 55, 56, 57, 58, 59, 60, 61, 62, 63, 64, 65, 66, 67, 68, 69, 70, 71, 72, 73, 74, 75, 77, 78, 81, 84, 86, 87}\n"
     ]
    }
   ],
   "source": [
    "# 'Age' Column\n",
    "\n",
    "lista_age = [re.findall('[0-9]{2}', str(e)) for e in df['Age']]\n",
    "\n",
    "lista_age_2 = []\n",
    "for e in lista_age:\n",
    "    if len(e)>0:\n",
    "        aux = [int(value) for value in e]\n",
    "        lista_age_2.append(int(sum(aux)/len(aux)))\n",
    "    else:\n",
    "        lista_age_2.append(np.nan)\n",
    "\n",
    "print(set(lista_age_2))\n"
   ]
  },
  {
   "cell_type": "code",
   "execution_count": 55,
   "metadata": {},
   "outputs": [
    {
     "data": {
      "text/html": [
       "<div>\n",
       "<style scoped>\n",
       "    .dataframe tbody tr th:only-of-type {\n",
       "        vertical-align: middle;\n",
       "    }\n",
       "\n",
       "    .dataframe tbody tr th {\n",
       "        vertical-align: top;\n",
       "    }\n",
       "\n",
       "    .dataframe thead th {\n",
       "        text-align: right;\n",
       "    }\n",
       "</style>\n",
       "<table border=\"1\" class=\"dataframe\">\n",
       "  <thead>\n",
       "    <tr style=\"text-align: right;\">\n",
       "      <th></th>\n",
       "      <th>Year</th>\n",
       "      <th>Type</th>\n",
       "      <th>Country</th>\n",
       "      <th>Sex</th>\n",
       "      <th>Fatal</th>\n",
       "      <th>Month</th>\n",
       "      <th>Century</th>\n",
       "      <th>Activities</th>\n",
       "      <th>Age</th>\n",
       "    </tr>\n",
       "  </thead>\n",
       "  <tbody>\n",
       "    <tr>\n",
       "      <th>0</th>\n",
       "      <td>2016.0</td>\n",
       "      <td>Unprovoked</td>\n",
       "      <td>USA</td>\n",
       "      <td>M</td>\n",
       "      <td>N</td>\n",
       "      <td>Sep</td>\n",
       "      <td>XXI</td>\n",
       "      <td>Surfing</td>\n",
       "      <td>16.0</td>\n",
       "    </tr>\n",
       "    <tr>\n",
       "      <th>1</th>\n",
       "      <td>2016.0</td>\n",
       "      <td>Unprovoked</td>\n",
       "      <td>USA</td>\n",
       "      <td>M</td>\n",
       "      <td>N</td>\n",
       "      <td>Sep</td>\n",
       "      <td>XXI</td>\n",
       "      <td>Surfing</td>\n",
       "      <td>36.0</td>\n",
       "    </tr>\n",
       "    <tr>\n",
       "      <th>2</th>\n",
       "      <td>2016.0</td>\n",
       "      <td>Unprovoked</td>\n",
       "      <td>USA</td>\n",
       "      <td>M</td>\n",
       "      <td>N</td>\n",
       "      <td>Sep</td>\n",
       "      <td>XXI</td>\n",
       "      <td>Surfing</td>\n",
       "      <td>43.0</td>\n",
       "    </tr>\n",
       "  </tbody>\n",
       "</table>\n",
       "</div>"
      ],
      "text/plain": [
       "     Year        Type Country Sex Fatal Month Century Activities   Age\n",
       "0  2016.0  Unprovoked     USA   M     N   Sep     XXI    Surfing  16.0\n",
       "1  2016.0  Unprovoked     USA   M     N   Sep     XXI    Surfing  36.0\n",
       "2  2016.0  Unprovoked     USA   M     N   Sep     XXI    Surfing  43.0"
      ]
     },
     "metadata": {},
     "output_type": "display_data"
    }
   ],
   "source": [
    "df = df.drop(['Age'], axis=1)\n",
    "df['Age'] = lista_age_2\n",
    "display(df.head(3))"
   ]
  },
  {
   "cell_type": "code",
   "execution_count": 56,
   "metadata": {},
   "outputs": [
    {
     "name": "stdout",
     "output_type": "stream",
     "text": [
      "[54, 37, 72, 92, 98, 136, 135, 149, 146, 140, 145, 117, 113, 81, 104, 101, 83, 80, 78, 77, 83, 54, 65, 42, 45, 66, 41, 37, 48, 37, 54, 34, 36, 43, 29, 32, 25, 28, 25, 27, 35, 19, 34, 13, 14, 20, 9, 14, 12, 11, 16, 11, 8, 9, 4, 4, 3, 1, 6, 8, 6, 3, 1, 1, 2, 2, 3, 2, 1, 1, 1, 1]\n",
      "[10, 11, 12, 13, 14, 15, 16, 17, 18, 19, 20, 21, 22, 23, 24, 25, 26, 27, 28, 29, 30, 31, 32, 33, 34, 35, 36, 37, 38, 39, 40, 41, 42, 43, 44, 45, 46, 47, 48, 49, 50, 51, 52, 53, 54, 55, 56, 57, 58, 59, 60, 61, 62, 63, 64, 65, 66, 67, 68, 69, 70, 71, 72, 73, 74, 75, 77, 78, 81, 84, 86, 87]\n"
     ]
    }
   ],
   "source": [
    "# df[\"Age\"].value_counts().sort_index()\n",
    "Age_values = [int(e) for e in df[\"Age\"].value_counts().sort_index()]\n",
    "Age_labels = df[\"Age\"].value_counts().sort_index().index.tolist()\n",
    "Age_labels_2 = [int(e) for e in Age_labels]\n",
    "print(Age_values)\n",
    "print(Age_labels_2)"
   ]
  },
  {
   "cell_type": "code",
   "execution_count": 57,
   "metadata": {},
   "outputs": [
    {
     "data": {
      "text/plain": [
       "<matplotlib.collections.PathCollection at 0x26feff933c8>"
      ]
     },
     "execution_count": 57,
     "metadata": {},
     "output_type": "execute_result"
    },
    {
     "data": {
      "image/png": "[encoded data removed]",
      "text/plain": [
       "<Figure size 1080x1080 with 1 Axes>"
      ]
     },
     "metadata": {
      "needs_background": "light"
     },
     "output_type": "display_data"
    }
   ],
   "source": [
    "fig = plt.gcf()\n",
    "fig.set_size_inches(15,15)\n",
    "plt.scatter(Age_labels_2, Age_values)"
   ]
  },
  {
   "cell_type": "markdown",
   "metadata": {},
   "source": [
    "### Country"
   ]
  },
  {
   "cell_type": "code",
   "execution_count": 58,
   "metadata": {},
   "outputs": [
    {
     "name": "stdout",
     "output_type": "stream",
     "text": [
      "{'Brazil', 'Others', 'Reunion', 'Papua New Guinea', 'Mexico', 'Italy', 'South Africa', 'New Caledonia', 'New Zealand', 'Philippines', 'Bahamas', 'Fiji', 'Usa', 'Australia'}\n"
     ]
    }
   ],
   "source": [
    "# 'Country' column:\n",
    "\n",
    "# print(df['Country'].value_counts())\n",
    "\n",
    "# I'm going to create an \"Others\" category to englobe countries with a value_count < 50:\n",
    "\n",
    "selected_countries = df['Country'].value_counts().index.tolist()[0:13]\n",
    "\n",
    "Countries = [e.title() if e in selected_countries else 'Others' for e in df['Country']]\n",
    "print(set(Countries))\n"
   ]
  },
  {
   "cell_type": "code",
   "execution_count": 59,
   "metadata": {},
   "outputs": [
    {
     "data": {
      "text/html": [
       "<div>\n",
       "<style scoped>\n",
       "    .dataframe tbody tr th:only-of-type {\n",
       "        vertical-align: middle;\n",
       "    }\n",
       "\n",
       "    .dataframe tbody tr th {\n",
       "        vertical-align: top;\n",
       "    }\n",
       "\n",
       "    .dataframe thead th {\n",
       "        text-align: right;\n",
       "    }\n",
       "</style>\n",
       "<table border=\"1\" class=\"dataframe\">\n",
       "  <thead>\n",
       "    <tr style=\"text-align: right;\">\n",
       "      <th></th>\n",
       "      <th>Year</th>\n",
       "      <th>Type</th>\n",
       "      <th>Sex</th>\n",
       "      <th>Fatal</th>\n",
       "      <th>Month</th>\n",
       "      <th>Century</th>\n",
       "      <th>Activities</th>\n",
       "      <th>Age</th>\n",
       "      <th>Country</th>\n",
       "    </tr>\n",
       "  </thead>\n",
       "  <tbody>\n",
       "    <tr>\n",
       "      <th>0</th>\n",
       "      <td>2016.0</td>\n",
       "      <td>Unprovoked</td>\n",
       "      <td>M</td>\n",
       "      <td>N</td>\n",
       "      <td>Sep</td>\n",
       "      <td>XXI</td>\n",
       "      <td>Surfing</td>\n",
       "      <td>16.0</td>\n",
       "      <td>Usa</td>\n",
       "    </tr>\n",
       "    <tr>\n",
       "      <th>1</th>\n",
       "      <td>2016.0</td>\n",
       "      <td>Unprovoked</td>\n",
       "      <td>M</td>\n",
       "      <td>N</td>\n",
       "      <td>Sep</td>\n",
       "      <td>XXI</td>\n",
       "      <td>Surfing</td>\n",
       "      <td>36.0</td>\n",
       "      <td>Usa</td>\n",
       "    </tr>\n",
       "    <tr>\n",
       "      <th>2</th>\n",
       "      <td>2016.0</td>\n",
       "      <td>Unprovoked</td>\n",
       "      <td>M</td>\n",
       "      <td>N</td>\n",
       "      <td>Sep</td>\n",
       "      <td>XXI</td>\n",
       "      <td>Surfing</td>\n",
       "      <td>43.0</td>\n",
       "      <td>Usa</td>\n",
       "    </tr>\n",
       "  </tbody>\n",
       "</table>\n",
       "</div>"
      ],
      "text/plain": [
       "     Year        Type Sex Fatal Month Century Activities   Age Country\n",
       "0  2016.0  Unprovoked   M     N   Sep     XXI    Surfing  16.0     Usa\n",
       "1  2016.0  Unprovoked   M     N   Sep     XXI    Surfing  36.0     Usa\n",
       "2  2016.0  Unprovoked   M     N   Sep     XXI    Surfing  43.0     Usa"
      ]
     },
     "metadata": {},
     "output_type": "display_data"
    }
   ],
   "source": [
    "df = df.drop(['Country'], axis=1)\n",
    "df['Country'] = Countries\n",
    "display(df.head(3))"
   ]
  },
  {
   "cell_type": "code",
   "execution_count": 60,
   "metadata": {},
   "outputs": [
    {
     "data": {
      "text/html": [
       "<div>\n",
       "<style scoped>\n",
       "    .dataframe tbody tr th:only-of-type {\n",
       "        vertical-align: middle;\n",
       "    }\n",
       "\n",
       "    .dataframe tbody tr th {\n",
       "        vertical-align: top;\n",
       "    }\n",
       "\n",
       "    .dataframe thead th {\n",
       "        text-align: right;\n",
       "    }\n",
       "</style>\n",
       "<table border=\"1\" class=\"dataframe\">\n",
       "  <thead>\n",
       "    <tr style=\"text-align: right;\">\n",
       "      <th></th>\n",
       "      <th>Year</th>\n",
       "      <th>Type</th>\n",
       "      <th>Sex</th>\n",
       "      <th>Fatal</th>\n",
       "      <th>Month</th>\n",
       "      <th>Century</th>\n",
       "      <th>Activities</th>\n",
       "      <th>Age</th>\n",
       "      <th>Country</th>\n",
       "    </tr>\n",
       "  </thead>\n",
       "  <tbody>\n",
       "    <tr>\n",
       "      <th>0</th>\n",
       "      <td>2016.0</td>\n",
       "      <td>Unprovoked</td>\n",
       "      <td>M</td>\n",
       "      <td>N</td>\n",
       "      <td>Sep</td>\n",
       "      <td>XXI</td>\n",
       "      <td>Surfing</td>\n",
       "      <td>16.0</td>\n",
       "      <td>USA</td>\n",
       "    </tr>\n",
       "    <tr>\n",
       "      <th>1</th>\n",
       "      <td>2016.0</td>\n",
       "      <td>Unprovoked</td>\n",
       "      <td>M</td>\n",
       "      <td>N</td>\n",
       "      <td>Sep</td>\n",
       "      <td>XXI</td>\n",
       "      <td>Surfing</td>\n",
       "      <td>36.0</td>\n",
       "      <td>USA</td>\n",
       "    </tr>\n",
       "    <tr>\n",
       "      <th>2</th>\n",
       "      <td>2016.0</td>\n",
       "      <td>Unprovoked</td>\n",
       "      <td>M</td>\n",
       "      <td>N</td>\n",
       "      <td>Sep</td>\n",
       "      <td>XXI</td>\n",
       "      <td>Surfing</td>\n",
       "      <td>43.0</td>\n",
       "      <td>USA</td>\n",
       "    </tr>\n",
       "  </tbody>\n",
       "</table>\n",
       "</div>"
      ],
      "text/plain": [
       "     Year        Type Sex Fatal Month Century Activities   Age Country\n",
       "0  2016.0  Unprovoked   M     N   Sep     XXI    Surfing  16.0     USA\n",
       "1  2016.0  Unprovoked   M     N   Sep     XXI    Surfing  36.0     USA\n",
       "2  2016.0  Unprovoked   M     N   Sep     XXI    Surfing  43.0     USA"
      ]
     },
     "metadata": {},
     "output_type": "display_data"
    },
    {
     "name": "stdout",
     "output_type": "stream",
     "text": [
      "{'Brazil', 'Others', 'USA', 'Reunion', 'Papua New Guinea', 'Mexico', 'Italy', 'South Africa', 'New Caledonia', 'New Zealand', 'Philippines', 'Bahamas', 'Fiji', 'Australia'}\n"
     ]
    }
   ],
   "source": [
    "df['Country'].replace({'Usa': 'USA'}, inplace=True)\n",
    "display(df.head(3))\n",
    "print(set(df['Country']))"
   ]
  },
  {
   "cell_type": "code",
   "execution_count": 61,
   "metadata": {},
   "outputs": [],
   "source": [
    "explode = [0.1 for i in range(len(df['Country'].value_counts().index.tolist()))]\n",
    "explode = explode[0:5]\n",
    "country_values = [e for e in df['Country'].value_counts()]\n",
    "country_values_2 = country_values[0:5]\n",
    "country_values_2[2] += sum(country_values[5:])\n",
    "country_labels = df['Country'].value_counts().index.tolist()\n",
    "country_labels = country_labels[0:5]"
   ]
  },
  {
   "cell_type": "code",
   "execution_count": 62,
   "metadata": {},
   "outputs": [
    {
     "data": {
      "image/png": "[encoded data removed]",
      "text/plain": [
       "<Figure size 432x432 with 1 Axes>"
      ]
     },
     "metadata": {},
     "output_type": "display_data"
    }
   ],
   "source": [
    "fig = plt.gcf()\n",
    "fig.set_size_inches(6,6)\n",
    "plt.pie(country_values_2, explode = explode, labels= country_labels, autopct='%1.1f%%', shadow=True, startangle=140)\n",
    "plt.axis('equal')\n",
    "plt.show()"
   ]
  },
  {
   "cell_type": "code",
   "execution_count": 63,
   "metadata": {},
   "outputs": [
    {
     "data": {
      "text/plain": [
       "<matplotlib.axes._subplots.AxesSubplot at 0x26fefea59b0>"
      ]
     },
     "execution_count": 63,
     "metadata": {},
     "output_type": "execute_result"
    },
    {
     "data": {
      "image/png": "[encoded data removed]",
      "text/plain": [
       "<Figure size 432x288 with 1 Axes>"
      ]
     },
     "metadata": {
      "needs_background": "light"
     },
     "output_type": "display_data"
    }
   ],
   "source": [
    "df['Country'].value_counts().plot(kind='bar')"
   ]
  },
  {
   "cell_type": "markdown",
   "metadata": {},
   "source": [
    "### Case Number"
   ]
  },
  {
   "cell_type": "code",
   "execution_count": 64,
   "metadata": {},
   "outputs": [],
   "source": [
    "# Creating a correct Case Number column:\n",
    "df['num'] = [e for e in range(len(df['Year']))]"
   ]
  },
  {
   "cell_type": "code",
   "execution_count": 65,
   "metadata": {},
   "outputs": [],
   "source": [
    "# Function\n",
    "\n",
    "# def Case_Number(e):\n",
    "    # return \"{}_{}\".format(e['num'],e['Country'])\n"
   ]
  },
  {
   "cell_type": "code",
   "execution_count": 66,
   "metadata": {},
   "outputs": [],
   "source": [
    "df2 = df[['num','Country']]\n",
    "tr = df2.apply(Case_Number, axis=1) # tr = df2.apply(Case_Number, axis=1, result_type=\"broadcast\")"
   ]
  },
  {
   "cell_type": "code",
   "execution_count": 67,
   "metadata": {},
   "outputs": [
    {
     "data": {
      "text/html": [
       "<div>\n",
       "<style scoped>\n",
       "    .dataframe tbody tr th:only-of-type {\n",
       "        vertical-align: middle;\n",
       "    }\n",
       "\n",
       "    .dataframe tbody tr th {\n",
       "        vertical-align: top;\n",
       "    }\n",
       "\n",
       "    .dataframe thead th {\n",
       "        text-align: right;\n",
       "    }\n",
       "</style>\n",
       "<table border=\"1\" class=\"dataframe\">\n",
       "  <thead>\n",
       "    <tr style=\"text-align: right;\">\n",
       "      <th></th>\n",
       "      <th>Year</th>\n",
       "      <th>Type</th>\n",
       "      <th>Sex</th>\n",
       "      <th>Fatal</th>\n",
       "      <th>Month</th>\n",
       "      <th>Century</th>\n",
       "      <th>Activities</th>\n",
       "      <th>Age</th>\n",
       "      <th>Country</th>\n",
       "      <th>num</th>\n",
       "      <th>CaseNumber</th>\n",
       "    </tr>\n",
       "  </thead>\n",
       "  <tbody>\n",
       "    <tr>\n",
       "      <th>0</th>\n",
       "      <td>2016.0</td>\n",
       "      <td>Unprovoked</td>\n",
       "      <td>M</td>\n",
       "      <td>N</td>\n",
       "      <td>Sep</td>\n",
       "      <td>XXI</td>\n",
       "      <td>Surfing</td>\n",
       "      <td>16.0</td>\n",
       "      <td>USA</td>\n",
       "      <td>0</td>\n",
       "      <td>0_USA</td>\n",
       "    </tr>\n",
       "    <tr>\n",
       "      <th>1</th>\n",
       "      <td>2016.0</td>\n",
       "      <td>Unprovoked</td>\n",
       "      <td>M</td>\n",
       "      <td>N</td>\n",
       "      <td>Sep</td>\n",
       "      <td>XXI</td>\n",
       "      <td>Surfing</td>\n",
       "      <td>36.0</td>\n",
       "      <td>USA</td>\n",
       "      <td>1</td>\n",
       "      <td>1_USA</td>\n",
       "    </tr>\n",
       "    <tr>\n",
       "      <th>2</th>\n",
       "      <td>2016.0</td>\n",
       "      <td>Unprovoked</td>\n",
       "      <td>M</td>\n",
       "      <td>N</td>\n",
       "      <td>Sep</td>\n",
       "      <td>XXI</td>\n",
       "      <td>Surfing</td>\n",
       "      <td>43.0</td>\n",
       "      <td>USA</td>\n",
       "      <td>2</td>\n",
       "      <td>2_USA</td>\n",
       "    </tr>\n",
       "  </tbody>\n",
       "</table>\n",
       "</div>"
      ],
      "text/plain": [
       "     Year        Type Sex Fatal Month Century Activities   Age Country  num  \\\n",
       "0  2016.0  Unprovoked   M     N   Sep     XXI    Surfing  16.0     USA    0   \n",
       "1  2016.0  Unprovoked   M     N   Sep     XXI    Surfing  36.0     USA    1   \n",
       "2  2016.0  Unprovoked   M     N   Sep     XXI    Surfing  43.0     USA    2   \n",
       "\n",
       "  CaseNumber  \n",
       "0      0_USA  \n",
       "1      1_USA  \n",
       "2      2_USA  "
      ]
     },
     "metadata": {},
     "output_type": "display_data"
    }
   ],
   "source": [
    "df['CaseNumber'] = tr\n",
    "display(df.head(3))"
   ]
  },
  {
   "cell_type": "markdown",
   "metadata": {},
   "source": [
    "## 🦈 Exporting data:"
   ]
  },
  {
   "cell_type": "code",
   "execution_count": 68,
   "metadata": {},
   "outputs": [
    {
     "data": {
      "text/html": [
       "<div>\n",
       "<style scoped>\n",
       "    .dataframe tbody tr th:only-of-type {\n",
       "        vertical-align: middle;\n",
       "    }\n",
       "\n",
       "    .dataframe tbody tr th {\n",
       "        vertical-align: top;\n",
       "    }\n",
       "\n",
       "    .dataframe thead th {\n",
       "        text-align: right;\n",
       "    }\n",
       "</style>\n",
       "<table border=\"1\" class=\"dataframe\">\n",
       "  <thead>\n",
       "    <tr style=\"text-align: right;\">\n",
       "      <th></th>\n",
       "      <th>CaseNumber</th>\n",
       "      <th>Country</th>\n",
       "      <th>Century</th>\n",
       "      <th>Year</th>\n",
       "      <th>Month</th>\n",
       "      <th>Type</th>\n",
       "      <th>Activities</th>\n",
       "      <th>Fatal</th>\n",
       "      <th>Sex</th>\n",
       "      <th>Age</th>\n",
       "    </tr>\n",
       "  </thead>\n",
       "  <tbody>\n",
       "    <tr>\n",
       "      <th>0</th>\n",
       "      <td>0_USA</td>\n",
       "      <td>USA</td>\n",
       "      <td>XXI</td>\n",
       "      <td>2016.0</td>\n",
       "      <td>Sep</td>\n",
       "      <td>Unprovoked</td>\n",
       "      <td>Surfing</td>\n",
       "      <td>N</td>\n",
       "      <td>M</td>\n",
       "      <td>16.0</td>\n",
       "    </tr>\n",
       "    <tr>\n",
       "      <th>1</th>\n",
       "      <td>1_USA</td>\n",
       "      <td>USA</td>\n",
       "      <td>XXI</td>\n",
       "      <td>2016.0</td>\n",
       "      <td>Sep</td>\n",
       "      <td>Unprovoked</td>\n",
       "      <td>Surfing</td>\n",
       "      <td>N</td>\n",
       "      <td>M</td>\n",
       "      <td>36.0</td>\n",
       "    </tr>\n",
       "    <tr>\n",
       "      <th>2</th>\n",
       "      <td>2_USA</td>\n",
       "      <td>USA</td>\n",
       "      <td>XXI</td>\n",
       "      <td>2016.0</td>\n",
       "      <td>Sep</td>\n",
       "      <td>Unprovoked</td>\n",
       "      <td>Surfing</td>\n",
       "      <td>N</td>\n",
       "      <td>M</td>\n",
       "      <td>43.0</td>\n",
       "    </tr>\n",
       "  </tbody>\n",
       "</table>\n",
       "</div>"
      ],
      "text/plain": [
       "  CaseNumber Country Century    Year Month        Type Activities Fatal Sex  \\\n",
       "0      0_USA     USA     XXI  2016.0   Sep  Unprovoked    Surfing     N   M   \n",
       "1      1_USA     USA     XXI  2016.0   Sep  Unprovoked    Surfing     N   M   \n",
       "2      2_USA     USA     XXI  2016.0   Sep  Unprovoked    Surfing     N   M   \n",
       "\n",
       "    Age  \n",
       "0  16.0  \n",
       "1  36.0  \n",
       "2  43.0  "
      ]
     },
     "metadata": {},
     "output_type": "display_data"
    }
   ],
   "source": [
    "cols = ['CaseNumber','Country','Century','Year','Month','Type','Activities','Fatal','Sex','Age']\n",
    "df = df[cols]\n",
    "display(df.head(3))"
   ]
  },
  {
   "cell_type": "code",
   "execution_count": 69,
   "metadata": {},
   "outputs": [],
   "source": [
    "# Exporting a clean CSV version of data using Pandas:\n",
    "df.to_csv('./Output/cleanedDF.csv')"
   ]
  },
  {
   "cell_type": "markdown",
   "metadata": {},
   "source": [
    "# The end"
   ]
  },
  {
   "cell_type": "code",
   "execution_count": null,
   "metadata": {},
   "outputs": [],
   "source": []
  }
 ],
 "metadata": {
  "kernelspec": {
   "display_name": "Python 3",
   "language": "python",
   "name": "python3"
  },
  "language_info": {
   "codemirror_mode": {
    "name": "ipython",
    "version": 3
   },
   "file_extension": ".py",
   "mimetype": "text/x-python",
   "name": "python",
   "nbconvert_exporter": "python",
   "pygments_lexer": "ipython3",
   "version": "3.7.3"
  }
 },
 "nbformat": 4,
 "nbformat_minor": 2
}
